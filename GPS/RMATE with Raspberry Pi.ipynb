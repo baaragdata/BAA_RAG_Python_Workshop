{
 "cells": [
  {
   "cell_type": "markdown",
   "id": "grand-geology",
   "metadata": {},
   "source": [
    "<figure>\n",
    "  <IMG SRC=\"../baa_logo.png\" WIDTH=60 ALIGN=\"right\">\n",
    "</figure>\n",
    "\n",
    "    \n",
    "## RMATE for editing on Raspberry Pi\n",
    "\n",
    "The rmate system can be found [here](https://pypi.org/project/rmate/) and allows remote editing on a PC of code running on a Raspberry Pi. Once installed and set up in VSCode log on using SSH to the Pi, navigate to the folder containing the scrit you wish to edit and type `rmate filename.py` and it will be automatically opened in VSCode."
   ]
  },
  {
   "cell_type": "markdown",
   "id": "severe-colleague",
   "metadata": {},
   "source": [
    "![Remote VSCode](remote_vscode.PNG)"
   ]
  },
  {
   "cell_type": "markdown",
   "id": "marine-secretary",
   "metadata": {},
   "source": [
    "To set up putty to enable the tunnel for rmate to use, set putty like this:\n",
    "\n",
    "\n",
    "![rmate settings](putty_rmate_settings.png)\n",
    "\n",
    "Or from within the PowerShellterminal in VSCode type the following:\n",
    "\n",
    "ssh -R 52698:127.0.0.1:52698 pi@192.168.1.102\n"
   ]
  }
 ],
 "metadata": {
  "kernelspec": {
   "display_name": "Python 3",
   "language": "python",
   "name": "python3"
  },
  "language_info": {
   "codemirror_mode": {
    "name": "ipython",
    "version": 3
   },
   "file_extension": ".py",
   "mimetype": "text/x-python",
   "name": "python",
   "nbconvert_exporter": "python",
   "pygments_lexer": "ipython3",
   "version": "3.8.9"
  }
 },
 "nbformat": 4,
 "nbformat_minor": 5
}