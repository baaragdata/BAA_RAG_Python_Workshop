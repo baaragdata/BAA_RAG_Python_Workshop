{
 "cells": [
  {
   "cell_type": "markdown",
   "metadata": {},
   "source": [
    "# The pyrtlsdr library\n",
    "\n",
    "This is the most basic way to control the rtl dongle. First let's sample some data."
   ]
  },
  {
   "cell_type": "code",
   "execution_count": null,
   "metadata": {},
   "outputs": [],
   "source": [
    "from rtlsdr import RtlSdr\n",
    "\n",
    "sdr = RtlSdr()\n",
    "\n",
    "# configure device\n",
    "sdr.sample_rate = 2.048e6  # Hz\n",
    "sdr.center_freq = 95e6     # Hz\n",
    "sdr.freq_correction = 60   # PPM\n",
    "sdr.gain = 'auto'\n",
    "\n",
    "result = sdr.read_samples(512)\n",
    "print(result)\n",
    "#print(type(result))\n",
    "#result.shape"
   ]
  },
  {
   "cell_type": "markdown",
   "metadata": {},
   "source": [
    "Now we can plot the data using the matplotlib library."
   ]
  },
  {
   "cell_type": "code",
   "execution_count": null,
   "metadata": {},
   "outputs": [],
   "source": [
    "from pylab import *\n",
    "from rtlsdr import *\n",
    "\n",
    "sdr = RtlSdr()\n",
    "\n",
    "# configure device\n",
    "sdr.sample_rate = 2.4e6\n",
    "sdr.center_freq = 95e6\n",
    "sdr.gain = 4\n",
    "\n",
    "samples = sdr.read_samples(256*1024)\n",
    "sdr.close()\n",
    "\n",
    "# use matplotlib to estimate and plot the PSD\n",
    "psd(samples, NFFT=1024, Fs=sdr.sample_rate/1e6, Fc=sdr.center_freq/1e6, color='red')\n",
    "xlabel('Frequency (MHz)')\n",
    "ylabel('Relative power (dB)')\n",
    "\n",
    "show()"
   ]
  },
  {
   "cell_type": "markdown",
   "metadata": {},
   "source": [
    "# The rtlobs library:\n",
    "Let's look at some of the most commonly used things this library can do to collect and post-process IQ data from an RTL-SDR."
   ]
  },
  {
   "cell_type": "code",
   "execution_count": null,
   "metadata": {},
   "outputs": [],
   "source": [
    "from rtlobs import collect as col\n",
    "from rtlobs import post_process as post"
   ]
  },
  {
   "cell_type": "markdown",
   "metadata": {},
   "source": [
    "### Total power\n",
    "We can find the total power incident on the SDR by integrating the complex samples at a certain frequency for an amount of time:"
   ]
  },
  {
   "cell_type": "code",
   "execution_count": null,
   "metadata": {},
   "outputs": [],
   "source": [
    "# 1024 complex samples per call to the SDR\n",
    "# 49.6 dB of RtlSdr gain\n",
    "# 2.4 MHz sample rate/bandwidth\n",
    "# 1420.6 MHz center frequency\n",
    "# 10 sec integration time\n",
    "p_tot = col.run_total_power_int(1024, 49.6, 2.4e6, 1420.4e6, 10)\n",
    "print('Uncalibrated total power measurement: {}'.format(p_tot))"
   ]
  },
  {
   "cell_type": "markdown",
   "metadata": {},
   "source": [
    "### Total power calibration \n",
    "If p_tot was measured with a telescope pointed at a radio-hot source (e.g. the ground, ~300 Kelvin), and we measure again, this time pointed at a radio-cold source (e.g. empty sky, estimates vary, say ~10 K):"
   ]
  },
  {
   "cell_type": "code",
   "execution_count": null,
   "metadata": {},
   "outputs": [],
   "source": [
    "p_hot = p_tot\n",
    "p_cold = col.run_total_power_int(1024, 49.6, 2.4e6, 1420.4e6, 10)\n",
    "print('Uncalibrated total power measurement: {}'.format(p_cold))"
   ]
  },
  {
   "cell_type": "markdown",
   "metadata": {},
   "source": [
    "We can use these power measurements and assumptions of brightness temperature to perform a \"Y-factor\" calibration of the system temperature, T_sys, as described in [Single-Dish Calibration Techniques at Radio Wavelengths, K. O'Neil, 2002](http://adsabs.harvard.edu/full/2002ASPC..278..293O):"
   ]
  },
  {
   "cell_type": "code",
   "execution_count": null,
   "metadata": {},
   "outputs": [],
   "source": [
    "from rtlobs import calibrate as cal\n",
    "t_sys = cal.y_factor_cal(p_hot, p_cold, 300, 10)"
   ]
  },
  {
   "cell_type": "markdown",
   "metadata": {},
   "source": [
    "If your assumptions are wrong (for instance, pointing at the ceiling then a window, instead of ground, then sky), T_sys might not come out what you expect."
   ]
  },
  {
   "cell_type": "markdown",
   "metadata": {},
   "source": [
    "### Spectral lines\n",
    "We can estimate the power spectral density recorded by the SDR for a given bandwidth by averaging multiple spectra over time to reduce the noise:"
   ]
  },
  {
   "cell_type": "code",
   "execution_count": null,
   "metadata": {},
   "outputs": [],
   "source": [
    "from rtlobs import collect as col\n",
    "from rtlobs import post_process as post\n",
    "# 8192 samples per call to the SDR\n",
    "# 2048 bin resolution power spectral density estimate\n",
    "# 49.6 dB of RtlSdr gain\n",
    "# 2.32 MHz sample rate/bandwidth\n",
    "# 1.420 GHz center frequency\n",
    "# 10 sec integration time\n",
    "f, p = col.run_spectrum_int(8192, 2048, 49.6, 2.32e6, 1.420e9, 5)\n",
    "# Show the figure containing the plotted spectrum\n",
    "# display(f,p)\n",
    "fig, ax = post.plot_spectrum(f, p, savefig='../images/spectrum_int.png')"
   ]
  },
  {
   "cell_type": "markdown",
   "metadata": {},
   "source": [
    "And we can even run in frequency-switching mode, periodically retuning the SDR between two frequencies to reduce baseline bandpass shape and increase signal-to-noise on a spectral line!\n",
    "\n",
    "Note that the folding process performed on frequency-switched data happens in terms of the absolute values (power) rather than relative values (dB), so we make those changes to the plot labels."
   ]
  },
  {
   "cell_type": "code",
   "execution_count": null,
   "metadata": {},
   "outputs": [],
   "source": [
    "f, p = col.run_fswitch_int(8192, 2048, 49.6, 2.048e6, 88.95e6, 89.25e6, 5.0, fswitch=5)\n",
    "fig, ax = post.plot_spectrum(f, p)\n",
    "# Edit figure labels to be technically correct\n",
    "ax.set_ylabel('Uncalibrated Power Estimate (V$^2$)')\n",
    "ax.set_title('Power Spectrum Estimate')\n",
    "#fig.savefig('../images/fswitch_int.png')"
   ]
  },
  {
   "cell_type": "code",
   "execution_count": null,
   "metadata": {},
   "outputs": [],
   "source": []
  }
 ],
 "metadata": {
  "kernelspec": {
   "display_name": "Python 3",
   "language": "python",
   "name": "python3"
  },
  "language_info": {
   "codemirror_mode": {
    "name": "ipython",
    "version": 3
   },
   "file_extension": ".py",
   "mimetype": "text/x-python",
   "name": "python",
   "nbconvert_exporter": "python",
   "pygments_lexer": "ipython3",
   "version": "3.8.5"
  }
 },
 "nbformat": 4,
 "nbformat_minor": 2
}
