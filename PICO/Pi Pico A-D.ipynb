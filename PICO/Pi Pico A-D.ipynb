{
 "cells": [
  {
   "cell_type": "markdown",
   "id": "appreciated-medication",
   "metadata": {},
   "source": [
    "<figure>\n",
    "  <IMG SRC=\"../baa_logo.png\" WIDTH=60 ALIGN=\"right\">\n",
    "</figure>\n",
    "\n",
    "# Raspberry Pi Pico A/D\n",
    "You can perform the A/D conversion in polling, interrupt & FIFO with DMA mode. The ADC conversion speed per sample is 2μs that is 500kS/s. The RP2040 microcontroller operates on a 48MHZ clock frequency which comes from USB PLL. So, its ADC takes a 96 CPU clock cycle to perform one conversion. Therefore, the sampling frequency is (96 x 1 / 48MHz) = 2 μs per sample (500kS/s)."
   ]
  },
  {
   "cell_type": "markdown",
   "id": "demographic-hebrew",
   "metadata": {},
   "source": [
    "## Pi Pico as an SDR\n",
    "\n",
    "The Pi Pico can be used as a low frequency SDR (200+ kHz b/w), but would be very useful for VLF work, for instance detecting SIDs.\n",
    "\n",
    "![Pico SDR](PicoSDR.PNG)\n",
    "\n",
    "https://hackaday.com/2021/03/16/the-raspberry-pi-pico-as-an-sdr-receiver/"
   ]
  },
  {
   "source": [
    "\n",
    "Newly released since the first Python workshop is the offereing from Arduino themselfs. If you can't beat them then join them!\n",
    "\n",
    "![Arduino Nano Connect](arduino_nano_connect.jpg)\n",
    "\n",
    "https://store.arduino.cc/nano-rp2040-connect"
   ],
   "cell_type": "markdown",
   "metadata": {}
  }
 ],
 "metadata": {
  "kernelspec": {
   "display_name": "Python 3",
   "language": "python",
   "name": "python3"
  },
  "language_info": {
   "codemirror_mode": {
    "name": "ipython",
    "version": 3
   },
   "file_extension": ".py",
   "mimetype": "text/x-python",
   "name": "python",
   "nbconvert_exporter": "python",
   "pygments_lexer": "ipython3",
   "version": "3.8.9"
  }
 },
 "nbformat": 4,
 "nbformat_minor": 5
}