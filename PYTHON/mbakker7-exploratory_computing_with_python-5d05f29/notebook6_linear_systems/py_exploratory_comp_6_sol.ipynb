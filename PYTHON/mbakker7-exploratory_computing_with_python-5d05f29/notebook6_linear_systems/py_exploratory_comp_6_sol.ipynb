{
 "cells": [
  {
   "cell_type": "markdown",
   "metadata": {},
   "source": [
    "<figure>\n",
    "  <IMG SRC=\"https://raw.githubusercontent.com/mbakker7/exploratory_computing_with_python/master/tudelft_logo.png\" WIDTH=250 ALIGN=\"right\">\n",
    "</figure>\n",
    "\n",
    "# Exploratory Computing with Python\n",
    "*Developed by Mark Bakker*\n",
    "## Notebook 6: Systems of linear equations"
   ]
  },
  {
   "cell_type": "markdown",
   "metadata": {},
   "source": [
    "In this Notebook, we learn how to build and solve systems of linear equations, and apply these techniques to solve practical problems."
   ]
  },
  {
   "cell_type": "code",
   "execution_count": 1,
   "metadata": {},
   "outputs": [],
   "source": [
    "import numpy as np\n",
    "import matplotlib.pyplot as plt\n",
    "%matplotlib inline"
   ]
  },
  {
   "cell_type": "markdown",
   "metadata": {},
   "source": [
    "### Building and solving a system of linear equations\n",
    "A parabola is defined by three points (provided they are not on a straight line). \n",
    "The equation for a parabola is $y=ax^2+bx+c$, where $a$, $b$, and $c$ are constants.\n",
    "Given three points $(x_1,y_1)$, $(x_2,y_2)$, $(x_3,y_3)$, the following system of three linear equations may be compiled\n",
    "\n",
    "$$\n",
    "\\begin{split}\n",
    "x_1^2a+x_1b+c&=y_1 \\\\\n",
    "x_2^2a+x_2b+c&=y_2 \\\\\n",
    "x_3^2a+x_3b+c&=y_3 \\\\\n",
    "\\end{split}\n",
    "$$\n",
    "\n",
    "Or in matrix form\n",
    "\n",
    "$$\n",
    "\\left(\n",
    "\\begin{array}{ccc}\n",
    "x_1^2 & x_1 & 1 \\\\\n",
    "x_2^2 & x_2 & 1 \\\\\n",
    "x_3^2 & x_3 & 1 \\\\\n",
    "\\end{array}\n",
    "\\right)\n",
    "\\left(\n",
    "\\begin{array}{c}\n",
    "a \\\\b \\\\c \\\\\n",
    "\\end{array}\n",
    "\\right)\n",
    "=\n",
    "\\left(\n",
    "\\begin{array}{c}\n",
    "y_1 \\\\\n",
    "y_2 \\\\\n",
    "y_3 \\\\\n",
    "\\end{array}\n",
    "\\right)\n",
    "$$\n",
    "\n",
    "To solve this problem, we build a two-dimensional array containing the matrix (called `A`) and a one-dimensional array containing the right-hand side (called `rhs`).\n",
    "Let's do that for the three points $(x_1,y_1)=(-2,2)$, $(x_2,y_2)=(1,-1)$, $(x_3,y_3)=(4,4)$"
   ]
  },
  {
   "cell_type": "code",
   "execution_count": 2,
   "metadata": {},
   "outputs": [
    {
     "name": "stdout",
     "output_type": "stream",
     "text": [
      "Array A:\n",
      "[[  4.  -2.   1.]\n",
      " [  1.   1.   1.]\n",
      " [ 16.   4.   1.]]\n",
      "rhs: [ 2. -1.  4.]\n"
     ]
    }
   ],
   "source": [
    "xp = np.array([-2, 1, 4])\n",
    "yp = np.array([2, -1, 4])\n",
    "A = np.zeros((3, 3))\n",
    "rhs = np.zeros(3)\n",
    "for i in range(3):\n",
    "    A[i] = xp[i] ** 2, xp[i], 1  # Store one row at a time\n",
    "    rhs[i] = yp[i]\n",
    "print('Array A:')\n",
    "print(A)\n",
    "print('rhs:',rhs)"
   ]
  },
  {
   "cell_type": "markdown",
   "metadata": {},
   "source": [
    "The system may be solved with the `solve` method, which is part of the `linalg` subpackage of `numpy`. The `solve` method takes as input a two-dimensional array (the matrix) and a one-dimensional array (the right-hand side) and returns the solution. To check whether the solution is correct, we need to do a matrix multiply of the matrix stored in the array `A` and the obtained solution, which we call `sol`. As we learned the line\n",
    "\n",
    "`A * sol`\n",
    "\n",
    "does a term-by-term multiply. For a matrix multiply, the `@` symbol needs to be used (alternatively, the `np.dot` function can be used; the `@` symbol does not work in Python 2)."
   ]
  },
  {
   "cell_type": "code",
   "execution_count": 3,
   "metadata": {},
   "outputs": [
    {
     "name": "stdout",
     "output_type": "stream",
     "text": [
      "solution is: [ 0.44444444 -0.55555556 -0.88888889]\n",
      "specified values of y: [ 2 -1  4]\n",
      "A @ sol: [ 2. -1.  4.]\n"
     ]
    }
   ],
   "source": [
    "sol = np.linalg.solve(A, rhs)\n",
    "print('solution is:', sol)\n",
    "print('specified values of y:', yp)\n",
    "print('A @ sol:', A @ sol)"
   ]
  },
  {
   "cell_type": "markdown",
   "metadata": {},
   "source": [
    "We can also visually check whether we solved the problem correctly by drawing the three points and the parabola. "
   ]
  },
  {
   "cell_type": "code",
   "execution_count": 4,
   "metadata": {},
   "outputs": [
    {
     "data": {
      "image/png": "[encoded data removed]",
      "text/plain": [
       "<matplotlib.figure.Figure at 0x10bdd7f28>"
      ]
     },
     "metadata": {},
     "output_type": "display_data"
    }
   ],
   "source": [
    "plt.plot(xp, yp, 'ro')\n",
    "x = np.linspace(-3, 5, 100)\n",
    "y = sol[0] * x ** 2 + sol[1] * x + sol[2]\n",
    "plt.plot(x, y, 'b');"
   ]
  },
  {
   "cell_type": "markdown",
   "metadata": {},
   "source": [
    "### Exercise 1. <a name=\"back1\"></a>Fitting a wave\n",
    "Consider the following four measurements of the quantity $y$ at time $t$: $(t_0,y_0)=(0,3)$, $(t_1,y_1)=(0.25,1)$, $(t_2,y_2)=(0.5,-3)$, $(t_3,y_3)=(0.75,1)$. The measurements are part of a wave that may be written as\n",
    "\n",
    "$y = a\\cos(\\pi t) + b\\cos(2\\pi t) + c\\cos(3\\pi t) + d\\cos(4\\pi t)$\n",
    "\n",
    "where $a$, $b$, $c$, and $d$ are parameters. Build a system of four linear equations and solve for the four parameters. Creates a plot of the wave for $t$ going from 0 to 1 and show the four measurements with dots."
   ]
  },
  {
   "cell_type": "code",
   "execution_count": null,
   "metadata": {},
   "outputs": [],
   "source": []
  },
  {
   "cell_type": "markdown",
   "metadata": {},
   "source": [
    "<a href=\"#ex1answer\">Answers to Exercise 1</a>"
   ]
  },
  {
   "cell_type": "markdown",
   "metadata": {},
   "source": [
    "### Fitting an arbitrary polynomial\n",
    "In the next three exerises, we are going to fit a polynomial of arbitary degree $N$ to a set of $N+1$ data points. The function we are going to fit is \n",
    "\n",
    "$$f(x) = a_0 + a_1x + a_2x^2 + ... + a_Nx^N = \\sum\\limits_{n=0}^{N}a_nx^n$$\n",
    "\n",
    "Note that there are $N+1$ parameters $a_n$, while the degree of the polynomial is called $N$."
   ]
  },
  {
   "cell_type": "markdown",
   "metadata": {},
   "source": [
    "### Exercise 2. <a name=\"back2\"></a>The `fpoly` function\n",
    "First, write a function called `fpoly` that returns an array where item $n$ is equal to $x^n$. The input arguments of the function are the value of $x$ and the degree of the polynomial $N$. The output of the function is an array of length $N+1$. Test your function for $x=2$ and $N=4$ by executing\n",
    "\n",
    "`print fpoly(2, 4)`\n",
    "\n",
    "which should return `[  1.   2.   4.   8.  16.]`."
   ]
  },
  {
   "cell_type": "code",
   "execution_count": null,
   "metadata": {},
   "outputs": [],
   "source": []
  },
  {
   "cell_type": "markdown",
   "metadata": {},
   "source": [
    "<a href=\"#ex2answer\">Answers to Exercise 2</a>"
   ]
  },
  {
   "cell_type": "markdown",
   "metadata": {},
   "source": [
    "### Exercise 3. <a name=\"back3\"></a>The `solvepoly` function\n",
    "Next, write a function that computes the parameters $a_n$ to fit a polynomial of degree $N$ through $N+1$ data points. Call the function `solvepoly`. The input arguments of the function are an array $x$ of length $N+1$ and an array $y$ of length $N+1$. The output is an array of parameters $a_n$ such that a polynomial of degree $N$ goes exactly through the $N+1$ data points $x$ and $y$. Inside the function, you need to compute a matrix of $N+1$ equations for the $N+1$ unknown parameters. For each of the rows of the matrix, call the function `fpoly`. Test your function by executing the following four commands. If your code is correct, the parameter array `a` is [ 3.          2.33333333 -6.          1.66666667].\n",
    "\n",
    "    xp = np.array([0, 1, 2, 3])\n",
    "    yp = np.array([3, 1, -3, 1])\n",
    "    a = solvepoly(xp, yp)\n",
    "    print(a)"
   ]
  },
  {
   "cell_type": "code",
   "execution_count": null,
   "metadata": {
    "collapsed": true
   },
   "outputs": [],
   "source": []
  },
  {
   "cell_type": "markdown",
   "metadata": {},
   "source": [
    "<a href=\"#ex3answer\">Answers to Exercise 3</a>"
   ]
  },
  {
   "cell_type": "markdown",
   "metadata": {},
   "source": [
    "### Exercise 4.  <a name=\"back3\"></a>The `fpolyeval` function\n",
    "Finally, write a function called `fpolyeval` to evaluate the function $f(x) = \\sum\\limits_{n=0}^{N}a_nx^n$ for given parameters $a$ and an array of $x$ values. The `fpolyeval` function takes as input argument an array of arbitrary length $x$ and an array of parameters $a$ of length $N+1$. The function returns an array of $f(x)$ values with a length equal to the length of $x$. First test your function by executing\n",
    "\n",
    "`fpolyeval(xp, a)`\n",
    "\n",
    "where `xp` is the array with the values entered in Exercise 3 and `a` are the parameters computed in Exercise 3. When you programmed everything correctly, the function should return the four values of `yp` specified in Exercise 3. Test your function further by running the following commands, which should plot the four data points of Exercise 3 as markers and the 3$^\\text{rd}$ degree polynomial that goes exactly through the four points.\n",
    "\n",
    "    x = np.linspace(-1,4,100)\n",
    "    y = fpolyeval(x, a)\n",
    "    plt.plot(xp, yp, 'ko', label='data')\n",
    "    plt.plot(x, y, label='fitted poly')\n",
    "    plt.legend(loc='best');"
   ]
  },
  {
   "cell_type": "code",
   "execution_count": null,
   "metadata": {
    "collapsed": true
   },
   "outputs": [],
   "source": []
  },
  {
   "cell_type": "markdown",
   "metadata": {},
   "source": [
    "<a href=\"#ex4answer\">Answers to Exercise 4</a>"
   ]
  },
  {
   "cell_type": "markdown",
   "metadata": {},
   "source": [
    "### One-dimensional groundwater flow\n",
    "Consider a sand layer covered by a clay layer. The sand layer is bounded on each side by a canal with fixed water level $h_1^*$ (left) and $h_2^*$ (right); the distance between the two canals is $L$. Water leaks through the clay layer at a constant rate $P$ (see Figure). The groundwater head in the sand layer is governed by the second-order ordinary differential equation\n",
    "\n",
    "$$\\frac{\\text{d}^2h}{\\text{d}x^2} = -\\frac{P}{kD}$$\n",
    "\n",
    "where $h$ is the head, $k$ is the hydraulic conductivity of the sand layer, and $D$ is the thickness of the sand layer. The boundary conditions are that $h=h_1^*$ at $x=0$ and $h=h_2^*$ at $x=L$. \n",
    "\n",
    "<img src=\"http://i.imgur.com/2DH0sxT.png\" alt=\"Consolidation\" width=400pt>\n",
    "\n",
    "Although it is easy to solve this problem exactly, we will solve it here numerically using the finite difference method (which allows for $P$ to be a function of $x$, for example). The head is computed at $N+1$ equally spaced points from $x=0$ to $x=L$. The points are labeled $x_0$ through $x_{N}$, where $x_n=n\\Delta x$, and $\\Delta x$ is the horizontal distance between the points. The head at point $x_n$ is called $h_n$. The second order derivative can be approximated as (see, e.g., Verrujt (2012) Soil Mechanics, Eq. 17.4; a link to a pdf of the full text of this book may be found under Software [here](http://geo.verruijt.net/).\n",
    "\n",
    "$$\\frac{\\text{d}^2h}{\\text{d}x^2} \\approx \\frac{1}{\\Delta x} \\left[ \\frac{h_{n+1}-h_n}{\\Delta x} - \\frac{h_{n}-h_{n-1}}{\\Delta x} \\right]= \\frac{h_{n-1}-2h_n+h_{n+1}}{(\\Delta x)^2}$$\n",
    "\n",
    "Substitution of this approximation of the derivative in the differential equation and rearranging terms gives\n",
    "\n",
    "$$h_{n-1}-2h_n+h_{n+1} = -P\\frac{(\\Delta x)^2}{kD}$$\n",
    "\n",
    "An equation like this may be written for every point $n$, except for the first and last point where we need to apply the boundary conditions:\n",
    "\n",
    "$$h_0=h_1^* \\qquad h_N=h_2^*$$\n",
    "\n",
    "When $N=4$, we need to solve a system of $N+1=5$ linear equations in the unknowns $h_0$ through $h_4$:\n",
    "\n",
    "$$\\begin{split}\n",
    "h_0 &= h_1^*  \\\\\n",
    "h_{0}-2h_1+h_{2} &= -P(\\Delta x)^2/(kD) \\\\\n",
    "h_{1}-2h_2+h_{3} &= -P(\\Delta x)^2/(kD) \\\\\n",
    "h_{2}-2h_3+h_{4} &= -P(\\Delta x)^2/(kD) \\\\\n",
    "h_4 &= h_2^* \n",
    "\\end{split}$$\n",
    "\n",
    "or in matrix form\n",
    "\n",
    "$$\n",
    "\\left(\n",
    "\\begin{array}{ccccc}\n",
    "1 & 0 & 0 & 0 & 0 \\\\\n",
    "1 & -2 & 1 & 0 & 0 \\\\\n",
    "0 & 1 & -2 & 1 & 0 \\\\\n",
    "0 & 0 & 1 & -2 & 1 \\\\\n",
    "0 & 0 & 0 & 0 & 1 \\\\\n",
    "\\end{array}\n",
    "\\right)\n",
    "\\left(\n",
    "\\begin{array}{c}\n",
    "h_0 \\\\\n",
    "h_1 \\\\\n",
    "h_2 \\\\\n",
    "h_3 \\\\\n",
    "h_4 \\\\\n",
    "\\end{array}\n",
    "\\right)\n",
    "=\n",
    "\\left(\n",
    "\\begin{array}{c}\n",
    "h_1^* \\\\\n",
    "-P(\\Delta x)^2/(kD) \\\\\n",
    "-P(\\Delta x)^2/(kD) \\\\\n",
    "-P(\\Delta x)^2/(kD) \\\\\n",
    "h_2^* \\\\\n",
    "\\end{array}\n",
    "\\right)\n",
    "$$\n",
    "\n",
    "Note that the matrix consists of mostly zeros. The matrix is referred to as a tri-diagonal matrix, as there are only values along three diagonals of the matrix. The matrix may be constructed by specifying the values and positions of the diagonals. The main diagonal has position number zero and has length $N+1$. The diagonal right above the main diagonal has position number $+1$ and length $N$, while the diagonal below the main diagonal has position number $-1$ and also length $N$. The `np.diag` function creates a matrix consisting of one diagonal. The input arguments are an array of the correct length with the values along the diagonal and the position of the diagonal. The matrix may be constructed as follows:"
   ]
  },
  {
   "cell_type": "code",
   "execution_count": 5,
   "metadata": {},
   "outputs": [
    {
     "name": "stdout",
     "output_type": "stream",
     "text": [
      "[[ 1.  0.  0.  0.  0.]\n",
      " [ 1. -2.  1.  0.  0.]\n",
      " [ 0.  1. -2.  1.  0.]\n",
      " [ 0.  0.  1. -2.  1.]\n",
      " [ 0.  0.  0.  0.  1.]]\n"
     ]
    }
   ],
   "source": [
    "N = 4\n",
    "d0 = -2 * np.ones(N + 1)  # main diagonal\n",
    "d0[0] = 1  # first value of main diagonal is 1\n",
    "d0[-1] = 1 # last value of main diagonal is 1\n",
    "dplus1 = np.ones(N) # diagonal right above main diagonal, position 1\n",
    "dplus1[0] = 0    # first value of diagonal is 0\n",
    "dmin1 = np.ones(N)  # diagonal right below main diagonal, position -1\n",
    "dmin1[-1] = 0    # last value of diagonal is 0\n",
    "A = np.diag(d0, 0) + np.diag(dplus1, 1) + np.diag(dmin1, -1)\n",
    "print(A)"
   ]
  },
  {
   "cell_type": "markdown",
   "metadata": {},
   "source": [
    "Note that the finite-difference method described above is accurate when you use a reasonable number of points. Four points won't cut it. You may figure out whether you used enough points by, for example, doubling the number of points and compare the two solutions. "
   ]
  },
  {
   "cell_type": "markdown",
   "metadata": {},
   "source": [
    "### Exercise 5. <a name=\"back5\"></a>The head between two canals\n",
    "Compute the head distribution in a sand layer bounded on each side by a canal. Given: $k=10$ m/day, $D=10$ m, $h_1^*=20$ m, $h_2^*=22$ m, $L=1000$ m, $P=0.001$ m/d. Use $N=40$. Write Python code to:\n",
    "\n",
    "* Solve for the heads in all $N+1$ points\n",
    "* Print the maximum value of the head between the two canals to the screen (this should be around 22.5)\n",
    "* Create a plot of the head vs. $x$. Label the axes."
   ]
  },
  {
   "cell_type": "code",
   "execution_count": null,
   "metadata": {},
   "outputs": [],
   "source": []
  },
  {
   "cell_type": "markdown",
   "metadata": {},
   "source": [
    "<a href=\"#ex5answer\">Answers to Exercise 5</a>"
   ]
  },
  {
   "cell_type": "markdown",
   "metadata": {},
   "source": [
    "### Consolidation\n",
    "The deformation of saturated clay soils is a slow process, referred to as consolidation. In the compression of a soil, the porosity decreases, and as a result there is less space available for pore water. Hence, some pore water needs to be pushed out of the soil during compression. This may take considerable time in clays, as the permeability of clays is small. An extensive description of the consolidation process may be found in, e.g., Chapters 15-17 of Verruijt, 2012, Soil Mechanics, see this [link](http://geo.verruijt.net/)."
   ]
  },
  {
   "cell_type": "markdown",
   "metadata": {},
   "source": [
    "Consider one-dimensional consolidation in a soil of height $h$. The water pressure $p$ in the soil sample is governed by the differential equation\n",
    "\n",
    "$$\\frac{\\partial p}{\\partial t} = c_v \\frac{\\partial^2 p}{\\partial z^2}$$\n",
    "\n",
    "where $z$ is the vertical coordinate (positive upward), and $c_v$ is the consolidation coefficient.  We consider the problem where water can drain out at the top, but not at the bottom, so that the boundary condition at the bottom is\n",
    "\n",
    "$$z=0 \\qquad \\frac{\\partial p}{\\partial z} = 0$$\n",
    "\n",
    "and the boundary condition at the top is\n",
    "\n",
    "$$z=h \\qquad p = 0$$\n",
    "\n",
    "A constant load is applied at the top at time $t=0$ resulting, initially, in a uniform pressure $q$ throughout the soil sample (except for at $z=0$, where the pressure is always zero).\n",
    "\n",
    "$$t=0 \\qquad p = q$$\n",
    "\n",
    "<img src=\"http://i.imgur.com/4xdeoxw.png\" alt=\"Consolidation\" width=400pt>"
   ]
  },
  {
   "cell_type": "markdown",
   "metadata": {},
   "source": [
    "The change of pressure with time in the soil is simulated with a numerical method (fully implicit finite differences, to be exact). The pressure is computed at $N+1$ points, equally distributed from $z=0$ to $z=h$. The points are labeled $z_0$ through $z_{N}$, where $z_n=n\\Delta z$ and $\\Delta z$ is the vertical distance between the points. The pressure at point $z_n$ is called $p_n$. A separate solution is computed for every time step $\\Delta t$. The time derivative is approximated as\n",
    "\n",
    "$$\\frac{\\partial p}{\\partial t} \\approx \\frac{p_n(t) - p_n(t-\\Delta t)}{\\Delta t}$$\n",
    "\n",
    "while the spatial derivative is approximated as\n",
    "\n",
    "$$\\frac{\\partial^2 p}{\\partial z^2} \\approx \\frac{p_{n-1}(t) -2p_n(t) + p_{n+1}(t)}{\\Delta z)^2} $$\n",
    "\n",
    "Subsitution of the approximations of these derivatives and gathering terms gives the following equation:\n",
    "\n",
    "$$p_{n-1}(t) - (2+\\mu)p_n(t) + p_{n+1}(t) = -\\mu p_n(t-\\Delta t)$$\n",
    "\n",
    "where \n",
    "\n",
    "$$\\mu = (\\Delta z)^2/(c_v\\Delta t)$$\n",
    "\n",
    "This is an equation for the pressure in points $(n-1)$, $n$, and $(n+1)$ at time $t$, where it is assumed that the pressure at time $t-\\Delta t$ is known.\n",
    "\n",
    "The equations for $n=0$ and $n=N$ are different. \n",
    "At the bottom of the sample ($n=0$) the boundary condition is $\\partial p/\\partial z = 0$. The derivative may be approximated at $z_0=0$ as \n",
    "\n",
    "$$\\left(\\frac{\\partial p}{\\partial z}\\right)_{z=0} \\approx (p_1-p_{-1})/(2\\Delta z)=0$$\n",
    "\n",
    "where $p_{-1}$ is the pressure at an imaginary point $\\Delta z$ below $z_0$. The derivative is zero when $p_{-1}=p_1$, and substitution in the equation for $n=0$ gives\n",
    "\n",
    "$$- (2+\\mu)p_n(t) + 2p_{n+1}(t) = -\\mu p_n(t-\\Delta t)$$\n",
    "\n",
    "The equation for $n=N$ is easier, as at the top of the sample ($n=N$) the pressure is fixed to $p_N=0$."
   ]
  },
  {
   "cell_type": "markdown",
   "metadata": {},
   "source": [
    "As an example, the system of equations for $N=4$ is\n",
    "\n",
    "$$\n",
    "\\left(\n",
    "\\begin{array}{ccccc}\n",
    "-(2+\\mu) & 2 & 0 & 0 & 0 \\\\\n",
    "1 & -(2+\\mu) & 1 & 0 & 0 \\\\\n",
    "0 & 1 & -(2+\\mu) & 1 & 0 \\\\\n",
    "0 & 0 & 1 & -(2+\\mu) & 1 \\\\\n",
    "0 & 0 & 0 & 0 & 1 \\\\\n",
    "\\end{array}\n",
    "\\right)\n",
    "\\left(\n",
    "\\begin{array}{c}\n",
    "p_0(t) \\\\\n",
    "p_1(t) \\\\\n",
    "p_2(t) \\\\\n",
    "p_3(t) \\\\\n",
    "p_4(t) \\\\\n",
    "\\end{array}\n",
    "\\right)\n",
    "=\n",
    "\\left(\n",
    "\\begin{array}{c}\n",
    "-\\mu p_0(t-\\Delta t)) \\\\\n",
    "-\\mu p_1(t-\\Delta t)) \\\\\n",
    "-\\mu p_2(t-\\Delta t)) \\\\\n",
    "-\\mu p_3(t-\\Delta t) \\\\\n",
    "0 \\\\\n",
    "\\end{array}\n",
    "\\right)\n",
    "$$\n",
    "\n",
    "A solution is obtained by stepping through time. The matrix needs to be computed only once, as it doesn't change through time. Every time step, a new right-hand-side needs to be computed and a linear system of $N+1$ equations needs to be solved. If the matrix is called $A$ and the right-hand-side (based on the pressures at $t-\\Delta t$) is called $\\vec{r}(t-\\Delta t)$, then the pressure at time $t$, $\\vec{p}(t)$, is obtained by solving the system\n",
    "\n",
    "$$A\\vec{p}(t) = \\vec{r}(t-\\Delta t)$$\n",
    "\n"
   ]
  },
  {
   "cell_type": "markdown",
   "metadata": {},
   "source": [
    "Note again that the presented numerical solution procedure is approximate and only gives accurate solutions when the time step $\\Delta t$ and the spatial discretization $\\Delta z$ are chosen small enough."
   ]
  },
  {
   "cell_type": "markdown",
   "metadata": {},
   "source": [
    "### Exercise 6. <a name=\"back6\"></a>One-dimensional consolidation\n",
    "Consider the consolidation process of a clay layer that is 2 m thick. A uniform load is applied at time $t=0$ causing a unit increase in the pressure, i.e., $p(t=0)=1$. The consolidation coefficient of the clay is $c_v=1\\cdot 10^{-6}$ m$^2$/s. Simulate the consolidation process using the numerical method described above. Use $N=40$ and a time step $\\Delta t=4\\cdot 10^4$ sec. Take 50 time steps and plot the pressure distribution in the clay every 10 time steps. Add labels along the axes and a legend. Compare your solution to the graph in Fig. 16.2 of Veruit (2012) (Note that Verruijt plots $p$ along the horizontal axis). The last line of your plot should approximate the line $c_v t / h^2=0.5$ in the graph of Verrujt. \n",
    "\n",
    "Make sure that your Python code:\n",
    "\n",
    "* Solves for the pressure in all $N+1$ points for all 50 time steps and plots the results after 10, 20, 30, 40, and 50 time steps.\n",
    "* Prints the maximum value of the pressure to the screen after 10, 20, 30, 40, and 50 time steps."
   ]
  },
  {
   "cell_type": "code",
   "execution_count": null,
   "metadata": {},
   "outputs": [],
   "source": []
  },
  {
   "cell_type": "markdown",
   "metadata": {},
   "source": [
    "<a href=\"#ex6answer\">Answers to Exercise 6</a>"
   ]
  },
  {
   "cell_type": "markdown",
   "metadata": {},
   "source": [
    "### The inverse of a matrix\n",
    "As mentioned, the values of the matrix `A` don't change through time. Hence, it is more efficient to compute and store the inverse of the matrix rather than repeatedly calling the `np.linalg.solve` method. The inverse of a matrix may be computed with the `inv` function of the `linalg` package. If the inverse of matrix `A` is called `Ainv`, the solution for the pressure may be obtained through matrix multiplication of `Ainv` with the right-hand side. For example, for the first problem in this Notebook, fitting a parabola through three points, the inverse of the matrix can be computed to obtain a solution as follows: "
   ]
  },
  {
   "cell_type": "code",
   "execution_count": 6,
   "metadata": {},
   "outputs": [
    {
     "name": "stdout",
     "output_type": "stream",
     "text": [
      "sol: [ 0.44444444 -0.55555556 -0.88888889]\n"
     ]
    }
   ],
   "source": [
    "A = np.array([[ 4, -2, 1],\n",
    "              [ 1,  1, 1],\n",
    "              [16,  4, 1]])\n",
    "rhs = np.array([2,-1, 4])\n",
    "Ainv = np.linalg.inv(A)\n",
    "sol = Ainv @ rhs\n",
    "print('sol:', sol)"
   ]
  },
  {
   "cell_type": "markdown",
   "metadata": {},
   "source": [
    "### Exercise 7. <a name=\"back7\"></a>One-dimensional consolidation revisited\n",
    "Modify your solution to Exercise 6 by computing and storing the inverse of the matrix, and compute a solution through multiplication of the inverse of the matrix with the right-hand-side vector"
   ]
  },
  {
   "cell_type": "code",
   "execution_count": null,
   "metadata": {},
   "outputs": [],
   "source": []
  },
  {
   "cell_type": "markdown",
   "metadata": {},
   "source": [
    "<a href=\"#ex7answer\">Answers to Exercise 7</a>"
   ]
  },
  {
   "cell_type": "markdown",
   "metadata": {},
   "source": [
    "### Sparse matrices\n",
    "The prodedure we have used so far to construct the matrix for a finite-difference solution is not very efficient, as a full matrix is created, which consists of mainly zeros. Non-zero values only appear on three diagonals. There are more efficient routines that store what are called *sparse matrices*. In a sparse matrix, only the value and location of non-zero values in a matrix are stored. Functionality for sparse matrices is available in the `scipy.sparse` package. A sparse matrix may be created from diagonals with the `diags` function, which takes a list of arrays for the diagonals and a list of the numbers of the diagonals. For example, the matrix\n",
    "$$\\left(\n",
    "\\begin{array}{cccc}\n",
    "2 & 3 & 0 & 0 \\\\\n",
    "1 & 2 & 3 & 0 \\\\\n",
    "0 & 1 & 2 & 3 \\\\\n",
    "0 & 0 & 1 & 2 \\\\\n",
    "\\end{array}\n",
    "\\right)$$\n",
    "is created as"
   ]
  },
  {
   "cell_type": "code",
   "execution_count": 7,
   "metadata": {},
   "outputs": [
    {
     "name": "stdout",
     "output_type": "stream",
     "text": [
      "Sparse matrix A\n",
      "  (1, 0)\t1.0\n",
      "  (0, 0)\t2.0\n",
      "  (2, 1)\t1.0\n",
      "  (1, 1)\t2.0\n",
      "  (0, 1)\t3.0\n",
      "  (3, 2)\t1.0\n",
      "  (2, 2)\t2.0\n",
      "  (1, 2)\t3.0\n",
      "  (3, 3)\t2.0\n",
      "  (2, 3)\t3.0\n",
      "Full matrix A as an array\n",
      "[[ 2.  3.  0.  0.]\n",
      " [ 1.  2.  3.  0.]\n",
      " [ 0.  1.  2.  3.]\n",
      " [ 0.  0.  1.  2.]]\n"
     ]
    }
   ],
   "source": [
    "import scipy.sparse as sp\n",
    "A = sp.diags([1 * np.ones(3), \n",
    "              2 * np.ones(4), \n",
    "              3 * np.ones(3)], \n",
    "             [-1, 0, 1], format='csc')\n",
    "print('Sparse matrix A')\n",
    "print(A) # Gives the way A is stored: row, column, value\n",
    "print('Full matrix A as an array')\n",
    "print(A.toarray())  # Returns the equivalent full array"
   ]
  },
  {
   "cell_type": "markdown",
   "metadata": {},
   "source": [
    "There are many ways to store a sparse matrix. In the code above, the sparse matrix `A` is stored in *compressed sparse column* (specified as `'csc'`). The advantages and disadvantages of this format are given [here](http://docs.scipy.org/doc/scipy/reference/generated/scipy.sparse.csc_matrix.html).  `A` is now a sparse matrix object. (Note that the multiplication sign does not do term-by-term multiplication for sparse matrix objects.) The solution to the system of equations $Ax=b$ is obtained with the `spsolve` function of the `scipy.sparse.linalg` module. "
   ]
  },
  {
   "cell_type": "code",
   "execution_count": 8,
   "metadata": {},
   "outputs": [
    {
     "name": "stdout",
     "output_type": "stream",
     "text": [
      "type of A: <class 'scipy.sparse.csc.csc_matrix'>\n",
      "right-hand-side defined as: [0 1 2 3]\n",
      "verify A @ x gives same: [ 0.  1.  2.  3.]\n"
     ]
    }
   ],
   "source": [
    "from scipy.sparse.linalg import spsolve\n",
    "print('type of A:', type(A))\n",
    "b = np.arange(4)\n",
    "x = spsolve(A,b)  # x is solution of Ax=b\n",
    "print('right-hand-side defined as:', b)\n",
    "print('verify A @ x gives same:', A @ x)"
   ]
  },
  {
   "cell_type": "markdown",
   "metadata": {},
   "source": [
    "The main advantage of sparse matrices is that you can solve *much* larger problems than with full matrices, as you only store the (few) points that are not zero. The solver `spsolve` also makes use of the sparsity of the matrix and will generally be faster. "
   ]
  },
  {
   "cell_type": "markdown",
   "metadata": {},
   "source": [
    "### Exercise 8 <a name=\"back8\"></a> Sparse matrix\n",
    "Redo Exercise 5 but now use a *sparse* matrix. Obtain a solution for the head using $h_1^*=42$, $h_2^*=40$, and $N=10000$. All other parameters are the same as for Exercise 2. Create a plot of the head between the two canals. **Warning**: When you try to solve the problem with a regular (full) matrix and $N=10000$, you may run out of computer memory or the solve may take a *very* long time, and/or your program may hang. Don't try this, but if you accidentally do this and your Notebook doesn't recover, try to click on 'Kernel' in the menu bar at the top and then on 'Restart'."
   ]
  },
  {
   "cell_type": "code",
   "execution_count": null,
   "metadata": {},
   "outputs": [],
   "source": []
  },
  {
   "cell_type": "markdown",
   "metadata": {},
   "source": [
    "<a href=\"#ex8answer\">Answers to Exercise 8</a>"
   ]
  },
  {
   "cell_type": "markdown",
   "metadata": {},
   "source": [
    "### Solutions to the exercises"
   ]
  },
  {
   "cell_type": "markdown",
   "metadata": {},
   "source": [
    "<a name=\"ex1answer\">Answers to Exercise 1</a>"
   ]
  },
  {
   "cell_type": "code",
   "execution_count": 9,
   "metadata": {},
   "outputs": [
    {
     "name": "stdout",
     "output_type": "stream",
     "text": [
      "a,b,c,d:  [ 1.  2.  1. -1.]\n"
     ]
    },
    {
     "data": {
      "image/png": "[encoded data removed]",
      "text/plain": [
       "<matplotlib.figure.Figure at 0x11060e438>"
      ]
     },
     "metadata": {},
     "output_type": "display_data"
    }
   ],
   "source": [
    "tp = np.array([0, 0.25, 0.5, 0.75])\n",
    "yp = np.array([ 3, 1, -3, 1])\n",
    "A = np.zeros((4, 4))\n",
    "rhs = np.zeros(4)\n",
    "for i in range(4):\n",
    "    A[i] = np.cos(1 * np.pi * tp[i]), np.cos(2 * np.pi * tp[i]), \\\n",
    "           np.cos(3 * np.pi * tp[i]), np.cos(4 * np.pi * tp[i])  # Store one row at a time\n",
    "    rhs[i] = yp[i]\n",
    "sol = np.linalg.solve(A, rhs)\n",
    "print('a,b,c,d: ',sol)\n",
    "\n",
    "t = np.linspace(0, 1, 100)\n",
    "y = sol[0] * np.cos(1 * np.pi * t) + sol[1] * np.cos(2 * np.pi * t) + \\\n",
    "    sol[2] * np.cos(3 * np.pi * t) + sol[3] * np.cos(4 * np.pi * t)\n",
    "plt.plot(t, y, 'b', label='wave')\n",
    "plt.plot(tp, yp, 'ro', label='data')\n",
    "plt.legend(loc='best');"
   ]
  },
  {
   "cell_type": "markdown",
   "metadata": {},
   "source": [
    "<a href=\"#back1\">Back to Exercise 1</a>\n",
    "\n",
    "<a name=\"ex2answer\">Answers to Exercise 2</a>"
   ]
  },
  {
   "cell_type": "code",
   "execution_count": 10,
   "metadata": {},
   "outputs": [
    {
     "name": "stdout",
     "output_type": "stream",
     "text": [
      "[  1.   2.   4.   8.  16.]\n"
     ]
    }
   ],
   "source": [
    "def fpoly(x, N):\n",
    "    rv = np.zeros(N + 1)\n",
    "    for n in range(N + 1):\n",
    "        rv[n] = x ** n\n",
    "    return rv\n",
    "\n",
    "print(fpoly(2, 4))"
   ]
  },
  {
   "cell_type": "markdown",
   "metadata": {},
   "source": [
    "<a href=\"#back2\">Back to Exercise 2</a>\n",
    "\n",
    "<a name=\"ex3answer\">Answers to Exercise 3</a>"
   ]
  },
  {
   "cell_type": "code",
   "execution_count": 11,
   "metadata": {},
   "outputs": [
    {
     "name": "stdout",
     "output_type": "stream",
     "text": [
      "[ 3.          2.33333333 -6.          1.66666667]\n"
     ]
    }
   ],
   "source": [
    "def solvepoly(x, y):\n",
    "    N = len(x) - 1\n",
    "    mat = np.zeros((N+1, N+1))\n",
    "    for n in range(N+1):\n",
    "        mat[n] = fpoly(x[n], N)\n",
    "    par = np.linalg.solve(mat, y)\n",
    "    return par\n",
    "    \n",
    "xp = np.array([0, 1, 2, 3])\n",
    "yp = np.array([3, 1, -3, 1])\n",
    "a = solvepoly(xp, yp)\n",
    "print(a)"
   ]
  },
  {
   "cell_type": "markdown",
   "metadata": {},
   "source": [
    "<a href=\"#back3\">Back to Exercise 3</a>\n",
    "\n",
    "<a name=\"ex4answer\">Answers to Exercise 4</a>"
   ]
  },
  {
   "cell_type": "code",
   "execution_count": 12,
   "metadata": {},
   "outputs": [
    {
     "name": "stdout",
     "output_type": "stream",
     "text": [
      "[ 3.  1. -3.  1.]\n"
     ]
    }
   ],
   "source": [
    "def fpolyeval(x, a):\n",
    "    rv = np.zeros(len(x))\n",
    "    for n in range(len(a)):\n",
    "        rv += a[n] * x ** n\n",
    "    return rv\n",
    "\n",
    "print(fpolyeval(xp, a))"
   ]
  },
  {
   "cell_type": "code",
   "execution_count": 13,
   "metadata": {},
   "outputs": [
    {
     "data": {
      "image/png": "[encoded data removed]",
      "text/plain": [
       "<matplotlib.figure.Figure at 0x110b575f8>"
      ]
     },
     "metadata": {},
     "output_type": "display_data"
    }
   ],
   "source": [
    "x = np.linspace(-1,4,100)\n",
    "y = fpolyeval(x, a)\n",
    "plt.plot(xp, yp, 'ko', label='data')\n",
    "plt.plot(x, y, label='fitted poly')\n",
    "plt.legend(loc='best');"
   ]
  },
  {
   "cell_type": "markdown",
   "metadata": {},
   "source": [
    "<a href=\"#back4\">Back to Exercise 4</a>\n",
    "\n",
    "<a name=\"ex5answer\">Answers to Exercise 5</a>"
   ]
  },
  {
   "cell_type": "code",
   "execution_count": 14,
   "metadata": {},
   "outputs": [
    {
     "name": "stdout",
     "output_type": "stream",
     "text": [
      "maximum head  22.45\n"
     ]
    },
    {
     "data": {
      "image/png": "[encoded data removed]",
      "text/plain": [
       "<matplotlib.figure.Figure at 0x110b57cc0>"
      ]
     },
     "metadata": {},
     "output_type": "display_data"
    }
   ],
   "source": [
    "k = 10\n",
    "D = 10\n",
    "h1star = 20\n",
    "h2star = 22\n",
    "L = 1000\n",
    "P = 0.001\n",
    "N = 40\n",
    "\n",
    "d0 = -2 * np.ones(N + 1)  # main diagonal\n",
    "d0[0] = 1  # first value of main diagonal is 1\n",
    "d0[-1] = 1 # last value of main diagonal is 1\n",
    "dplus1 = np.ones(N) # diagonal right above main diagonal, position 1\n",
    "dplus1[0] = 0    # first value of diagonal is 0\n",
    "dmin1 = np.ones(N)  # diagonal right below main diagonal, position -1\n",
    "dmin1[-1] = 0    # last value of diagonal is 0\n",
    "A = np.diag(d0, 0) + np.diag(dplus1, 1) + np.diag(dmin1, -1)\n",
    "# Right hand side\n",
    "delx = L / N\n",
    "rhs = -P * delx ** 2 / (k * D) * np.ones(N + 1)\n",
    "rhs[0] = h1star\n",
    "rhs[-1] = h2star\n",
    "# Solve for the head and plot\n",
    "h = np.linalg.solve(A, rhs)\n",
    "x = np.linspace(0, L, N + 1)\n",
    "plt.plot(x, h)\n",
    "plt.xlabel('x (m)')\n",
    "plt.ylabel('head (m)')\n",
    "print('maximum head ', np.max(h))"
   ]
  },
  {
   "cell_type": "markdown",
   "metadata": {},
   "source": [
    "<a href=\"#back5\">Back to Exercise 5</a>\n",
    "\n",
    "<a name=\"ex6answer\">Answers to Exercise 6</a>"
   ]
  },
  {
   "cell_type": "code",
   "execution_count": 15,
   "metadata": {},
   "outputs": [
    {
     "name": "stdout",
     "output_type": "stream",
     "text": [
      "maximum value after 10 timesteps is: 0.942582661527\n",
      "maximum value after 20 timesteps is: 0.774232516343\n",
      "maximum value after 30 timesteps is: 0.611765747348\n",
      "maximum value after 40 timesteps is: 0.480122757381\n",
      "maximum value after 50 timesteps is: 0.376368780322\n"
     ]
    },
    {
     "data": {
      "image/png": "[encoded data removed]",
      "text/plain": [
       "<matplotlib.figure.Figure at 0x110c8ad30>"
      ]
     },
     "metadata": {},
     "output_type": "display_data"
    }
   ],
   "source": [
    "cv = 1e-6  # m^2/s\n",
    "h = 2  # m\n",
    "N = 40\n",
    "delt = 4e4  # seconds\n",
    "#\n",
    "delz = h / N\n",
    "mu = delz ** 2 / (cv * delt)\n",
    "\n",
    "d0 = -(2 + mu) * np.ones(N + 1)\n",
    "d0[-1] = 1\n",
    "dp1 = np.ones(N)\n",
    "dp1[0] = 2\n",
    "dm1 = np.ones(N)\n",
    "dm1[-1] = 0\n",
    "A = np.diag(d0) + np.diag(dp1, 1) + np.diag(dm1, -1)\n",
    "\n",
    "p = np.ones(N + 1)\n",
    "for i in range(5):\n",
    "    for j in range(10):\n",
    "        rhs = -mu * p\n",
    "        rhs[-1] = 0\n",
    "        p = np.linalg.solve(A, rhs)\n",
    "    plt.plot(np.arange(0, h + 0.01, delz), p, label=str((i + 1) * 10) + ' timesteps')\n",
    "    print('maximum value after', 10 * ( i + 1), 'timesteps is:', p[0])\n",
    "plt.xlim(0, 2)\n",
    "plt.legend(loc='best')\n",
    "plt.xlabel('z')\n",
    "plt.ylabel('p')\n",
    "plt.yticks(np.linspace(0, 1, 11))\n",
    "plt.title('Consolidation');"
   ]
  },
  {
   "cell_type": "markdown",
   "metadata": {},
   "source": [
    "<a href=\"#back6\">Back to Exercise 6</a>\n",
    "\n",
    "<a name=\"ex7answer\">Answers to Exercise 7</a>"
   ]
  },
  {
   "cell_type": "code",
   "execution_count": 16,
   "metadata": {},
   "outputs": [
    {
     "name": "stdout",
     "output_type": "stream",
     "text": [
      "maximum value after 10 timesteps is: 0.942582661527\n",
      "maximum value after 20 timesteps is: 0.774232516343\n",
      "maximum value after 30 timesteps is: 0.611765747348\n",
      "maximum value after 40 timesteps is: 0.480122757381\n",
      "maximum value after 50 timesteps is: 0.376368780322\n"
     ]
    },
    {
     "data": {
      "image/png": "[encoded data removed]",
      "text/plain": [
       "<matplotlib.figure.Figure at 0x111329748>"
      ]
     },
     "metadata": {},
     "output_type": "display_data"
    }
   ],
   "source": [
    "cv = 1e-6  # m^2/s\n",
    "h = 2  # m\n",
    "N = 40\n",
    "delt = 4e4  # seconds\n",
    "#\n",
    "delz = h / N\n",
    "mu = delz ** 2 / (cv * delt)\n",
    "\n",
    "d0 = -(2 + mu) * np.ones(N + 1)\n",
    "d0[-1] = 1\n",
    "dp1 = np.ones(N)\n",
    "dp1[0] = 2\n",
    "dm1 = np.ones(N)\n",
    "dm1[-1] = 0\n",
    "A = np.diag(d0) + np.diag(dp1, 1) + np.diag(dm1, -1)\n",
    "Ainv = np.linalg.inv(A)\n",
    "\n",
    "p = np.ones(N + 1)\n",
    "for i in range(5):\n",
    "    for j in range(10):\n",
    "        rhs = -mu * p\n",
    "        rhs[-1] = 0\n",
    "        p = Ainv @ rhs\n",
    "    plt.plot(np.arange(0, h + 0.01, delz), p, label=str((i + 1) * 10) + ' timesteps')\n",
    "    print('maximum value after', 10 * ( i + 1), 'timesteps is:', p[0])\n",
    "plt.xlim(0, 2)\n",
    "plt.legend(loc='best')\n",
    "plt.xlabel('z')\n",
    "plt.ylabel('p')\n",
    "plt.yticks(np.linspace(0, 1, 11))\n",
    "plt.title('Consolidation');"
   ]
  },
  {
   "cell_type": "markdown",
   "metadata": {},
   "source": [
    "<a href=\"#back7\">Back to Exercise 7</a>\n",
    "\n",
    "<a name=\"ex8answer\">Answers to Exercise 8</a>"
   ]
  },
  {
   "cell_type": "code",
   "execution_count": 17,
   "metadata": {},
   "outputs": [
    {
     "data": {
      "image/png": "[encoded data removed]",
      "text/plain": [
       "<matplotlib.figure.Figure at 0x110c52470>"
      ]
     },
     "metadata": {},
     "output_type": "display_data"
    }
   ],
   "source": [
    "from scipy.sparse import diags\n",
    "from scipy.sparse.linalg import spsolve \n",
    "k = 10\n",
    "D = 10\n",
    "h1star = 42\n",
    "h2star = 40\n",
    "L = 1000\n",
    "P = 0.001\n",
    "N = 10000\n",
    "d0 = -2 * np.ones(N + 1)  # main diagonal\n",
    "d0[0] = 1  # first value of main diagonal is 1\n",
    "d0[-1] = 1 # last value of main diagonal is 1\n",
    "dplus1 = np.ones(N) # diagonal right above main diagonal, position 1\n",
    "dplus1[0] = 0    # first value of diagonal is 0\n",
    "dmin1 = np.ones(N)  # diagonal right below main diagonal, position -1\n",
    "dmin1[-1] = 0    # last value of diagonal is 0\n",
    "A = diags([dmin1, d0, dplus1], [-1, 0, 1], format='csc')\n",
    "# Right hand side\n",
    "delx = L / N\n",
    "rhs = -P * delx ** 2 / (k * D) * np.ones(N + 1)\n",
    "rhs[0] = h1star\n",
    "rhs[-1] = h2star\n",
    "h = spsolve(A, rhs)\n",
    "plt.plot(h)\n",
    "plt.xlabel('node number')\n",
    "plt.ylabel('head (m)');"
   ]
  },
  {
   "cell_type": "markdown",
   "metadata": {},
   "source": [
    "<a href=\"#back8\">Back to Exercise 8</a>"
   ]
  }
 ],
 "metadata": {
  "kernelspec": {
   "display_name": "Python 3",
   "language": "python",
   "name": "python3"
  },
  "language_info": {
   "codemirror_mode": {
    "name": "ipython",
    "version": 3
   },
   "file_extension": ".py",
   "mimetype": "text/x-python",
   "name": "python",
   "nbconvert_exporter": "python",
   "pygments_lexer": "ipython3",
   "version": "3.7.0"
  }
 },
 "nbformat": 4,
 "nbformat_minor": 1
}
