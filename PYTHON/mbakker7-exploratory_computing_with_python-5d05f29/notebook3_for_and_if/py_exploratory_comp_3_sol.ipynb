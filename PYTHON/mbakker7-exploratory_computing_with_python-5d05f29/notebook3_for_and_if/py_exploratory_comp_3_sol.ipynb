{
 "cells": [
  {
   "cell_type": "markdown",
   "metadata": {},
   "source": [
    "<figure>\n",
    "  <IMG SRC=\"https://raw.githubusercontent.com/mbakker7/exploratory_computing_with_python/master/tudelft_logo.png\" WIDTH=250 ALIGN=\"right\">\n",
    "</figure>\n",
    "\n",
    "# Exploratory Computing with Python\n",
    "*Developed by Mark Bakker*"
   ]
  },
  {
   "cell_type": "markdown",
   "metadata": {},
   "source": [
    "## Notebook 3: `for` loops and `if/else` statements\n",
    "As we will again be using `numpy` and `matplotlib`, we start by importing them"
   ]
  },
  {
   "cell_type": "code",
   "execution_count": 1,
   "metadata": {},
   "outputs": [],
   "source": [
    "%matplotlib inline\n",
    "import numpy as np\n",
    "import matplotlib.pyplot as plt"
   ]
  },
  {
   "cell_type": "markdown",
   "metadata": {},
   "source": [
    "### The `for` loop\n",
    "Loops are used to execute a command repeatedly. The syntax for a loop is as follows"
   ]
  },
  {
   "cell_type": "code",
   "execution_count": 2,
   "metadata": {},
   "outputs": [
    {
     "name": "stdout",
     "output_type": "stream",
     "text": [
      "Hello world, the value of i is 0\n",
      "Hello world, the value of i is 1\n",
      "Hello world, the value of i is 2\n",
      "Hello world, the value of i is 3\n",
      "Hello world, the value of i is 4\n"
     ]
    }
   ],
   "source": [
    "for i in [0, 1, 2, 3, 4]:\n",
    "    print('Hello world, the value of i is', i)"
   ]
  },
  {
   "cell_type": "markdown",
   "metadata": {},
   "source": [
    "In the code above, the variable `i` loops through the five values in the list `[0, 1, 2, 3, 4]`. The first time through, the value of `i` is equal to `0`, the second time through, its value is `1`, and so on till the last time when its value is `4`. Note the syntax of a `for` loop: At the end of the `for` statement you need to put a colon (`:`) and after that you need to indent. It doesn't matter how many spaces you indent, as long as you keep using the same number of spaces for the entire `for` loop. Jupyter Notebooks automatically indent 4 spaces, which is considered good Python style, so use that. You can have as many lines of code inside the `for` loop as you want. To end the `for` loop, simply stop indenting. "
   ]
  },
  {
   "cell_type": "code",
   "execution_count": 3,
   "metadata": {},
   "outputs": [
    {
     "name": "stdout",
     "output_type": "stream",
     "text": [
      "x, xsquare 0 0\n",
      "x, xsquare 1 1\n",
      "x, xsquare 2 4\n",
      "x, xsquare 3 9\n",
      "We are done with the loop\n"
     ]
    }
   ],
   "source": [
    "for x in [0, 1, 2, 3]: \n",
    "    xsquared = x ** 2\n",
    "    print('x, xsquare', x, xsquared)\n",
    "print('We are done with the loop')"
   ]
  },
  {
   "cell_type": "markdown",
   "metadata": {},
   "source": [
    "The list of values to loop through can be anything. It doesn't even have to be numbers. The `for` loop simply goes through all the values in the list one by one:"
   ]
  },
  {
   "cell_type": "code",
   "execution_count": 4,
   "metadata": {},
   "outputs": [
    {
     "name": "stdout",
     "output_type": "stream",
     "text": [
      "the value of data is: 20\n",
      "the value of data is: mark\n",
      "the value of data is: 3.1622776601683795\n"
     ]
    }
   ],
   "source": [
    "for data in [20, 'mark', np.sqrt(10)]:\n",
    "    print('the value of data is:', data)"
   ]
  },
  {
   "cell_type": "markdown",
   "metadata": {},
   "source": [
    "It is, of course, rather inconvenient to have to specify a list to loop through when the list is very long. For example, if you want to do something 100 times, you don't want to type a list of values from 0 up to 100. But Python has a convenient function for that called `range`. You can loop through a `range` just like you can loop through a list. To loop 10 times, starting with the value `0`:"
   ]
  },
  {
   "cell_type": "code",
   "execution_count": 5,
   "metadata": {},
   "outputs": [
    {
     "name": "stdout",
     "output_type": "stream",
     "text": [
      "the value of i is: 0\n",
      "the value of i is: 1\n",
      "the value of i is: 2\n",
      "the value of i is: 3\n",
      "the value of i is: 4\n",
      "the value of i is: 5\n",
      "the value of i is: 6\n",
      "the value of i is: 7\n",
      "the value of i is: 8\n",
      "the value of i is: 9\n"
     ]
    }
   ],
   "source": [
    "for i in range(10):\n",
    "    print('the value of i is:', i)"
   ]
  },
  {
   "cell_type": "markdown",
   "metadata": {},
   "source": [
    "A `range` can be converted to a list with the `list` function (but we will not use that option very often). You can call `range` with just one argument, in which case it will generate a range from 0 up to but not including the specified number. Note that `range(10)` produces 10 numbers from 0 up to and including 9. You can optionally give a starting value and a step, similar to the `np.arange` function."
   ]
  },
  {
   "cell_type": "code",
   "execution_count": 6,
   "metadata": {},
   "outputs": [
    {
     "name": "stdout",
     "output_type": "stream",
     "text": [
      "a range with 10 values: [0, 1, 2, 3, 4, 5, 6, 7, 8, 9]\n",
      "a range from 10 till 20 [10, 11, 12, 13, 14, 15, 16, 17, 18, 19]\n",
      "a range from 10 till 20 with steps of 2: [10, 12, 14, 16, 18]\n"
     ]
    }
   ],
   "source": [
    "print('a range with 10 values:', list(range(10)))\n",
    "print('a range from 10 till 20', list(range(10, 20)))\n",
    "print('a range from 10 till 20 with steps of 2:', list(range(10, 20, 2)))"
   ]
  },
  {
   "cell_type": "markdown",
   "metadata": {},
   "source": [
    "A loop can be used to fill an array. Let's compute $y=\\cos(x)$ where $x$ is an array that varies from 0 to $2\\pi$ with 100 points. We already know, of course, that this can be done with the statement `y = np.cos(x)`. Sometimes this is not possible, however, and we need to fill an array with a loop. First we have to create the array `y` (for example filled with zeros using the `zeros_like` function) and then fill it with the correct values by looping through all values of `x`, so that the index goes from `0` to the length of the `x` array. The counter in the loop (the variable `i` in the code below) is used as the index of the array that is filled."
   ]
  },
  {
   "cell_type": "code",
   "execution_count": 7,
   "metadata": {},
   "outputs": [
    {
     "data": {
      "image/png": "[encoded data removed]",
      "text/plain": [
       "<Figure size 432x288 with 1 Axes>"
      ]
     },
     "metadata": {
      "needs_background": "light"
     },
     "output_type": "display_data"
    }
   ],
   "source": [
    "x = np.linspace(0, 2 * np.pi, 100)\n",
    "y = np.zeros_like(x)  # similar to zeros(shape(x))\n",
    "for i in range(len(x)):\n",
    "    y[i] = np.cos(x[i])\n",
    "plt.plot(x, y);"
   ]
  },
  {
   "cell_type": "markdown",
   "metadata": {},
   "source": [
    "Loops are very useful constructs in a programming script. Whenever you need to do a computation multiple times you should automatically think: *loop!*. "
   ]
  },
  {
   "cell_type": "markdown",
   "metadata": {},
   "source": [
    "### Exercise 1.  <a name=\"back1\"></a>First `for` loop\n",
    "Create a list with the names of the months. Create a second list with the number of days in each month (for a regular year). Create a `for` loop that prints:\n",
    "\n",
    "`The number of days in MONTH is XX days`\n",
    "\n",
    "where, of course, you print the correct name of the month for `MONTH` and the correct number of days for `XX`. Use f-strings."
   ]
  },
  {
   "cell_type": "code",
   "execution_count": null,
   "metadata": {},
   "outputs": [],
   "source": []
  },
  {
   "cell_type": "markdown",
   "metadata": {},
   "source": [
    "<a href=\"#ex1answer\">Answer for Exercise 1</a>"
   ]
  },
  {
   "cell_type": "markdown",
   "metadata": {},
   "source": [
    "### The `if` statement\n",
    "An `if` statement lets you perform a task only when the outcome of the `if` statement is true. For example"
   ]
  },
  {
   "cell_type": "code",
   "execution_count": 8,
   "metadata": {},
   "outputs": [
    {
     "name": "stdout",
     "output_type": "stream",
     "text": [
      "starting value: 4\n",
      "changing data in the first if-statement\n",
      "value after the first if-statement: 6\n",
      "value after the second if-statement: 6\n"
     ]
    }
   ],
   "source": [
    "data = 4\n",
    "print('starting value:', data)\n",
    "if data < 6:\n",
    "    print('changing data in the first if-statement')\n",
    "    data = data + 2\n",
    "print('value after the first if-statement:', data)\n",
    "if data > 20:\n",
    "    print('changing data in the second if-statement')\n",
    "    data = 200\n",
    "print('value after the second if-statement:', data)  # data hasn't changed as data is not larger than 20"
   ]
  },
  {
   "cell_type": "markdown",
   "metadata": {},
   "source": [
    "Note the syntax of the `if` statement: It starts with `if` followed by a statement that is either `True` or `False` and then a colon. After the colon, you need to indent and the entire indented code block (in this case 2 lines of code) is executed if the statement is `True`. The `if` statement is completed when you stop indenting. Recall from Notebook 2 that you can use larger than `>`, larger than or equal `>=`, equal `==`, smaller than or equal `<=`, smaller than `<` or not equal `!=`."
   ]
  },
  {
   "cell_type": "markdown",
   "metadata": {},
   "source": [
    "### The `if`/`else` statement\n",
    "The `if` statement may be followed by an `else` statement, which is executed when the condition after `if` is `False`. For example"
   ]
  },
  {
   "cell_type": "code",
   "execution_count": 9,
   "metadata": {},
   "outputs": [
    {
     "name": "stdout",
     "output_type": "stream",
     "text": [
      "a is not smaller than 3\n"
     ]
    }
   ],
   "source": [
    "a = 4\n",
    "if a < 3:\n",
    "    print('a is smaller than 3')\n",
    "else:\n",
    "    print('a is not smaller than 3')"
   ]
  },
  {
   "cell_type": "markdown",
   "metadata": {},
   "source": [
    "You can even extend the `else` by adding one or more conditions with the `elif` command which is short for 'else if'"
   ]
  },
  {
   "cell_type": "code",
   "execution_count": 10,
   "metadata": {},
   "outputs": [
    {
     "name": "stdout",
     "output_type": "stream",
     "text": [
      "a is equal to 4\n"
     ]
    }
   ],
   "source": [
    "a = 4\n",
    "if a < 4:\n",
    "    print('a is smaller than 4')\n",
    "elif a > 4:\n",
    "    print('a is larger than 4')\n",
    "else:\n",
    "    print('a is equal to 4')"
   ]
  },
  {
   "cell_type": "markdown",
   "metadata": {},
   "source": [
    "Rather than specifying the value of a variable at the top of the code cell, you can ask the user to enter a value and store that value in the variable using the `input` function. The `input` function returns a string that can be converted into a number with the `float` function. Run the code cell below and test that it works when the entered value is larger than 4, smaller than 4, or equal to 4."
   ]
  },
  {
   "cell_type": "code",
   "execution_count": 11,
   "metadata": {},
   "outputs": [
    {
     "name": "stdin",
     "output_type": "stream",
     "text": [
      "Enter a value:  3\n"
     ]
    },
    {
     "name": "stdout",
     "output_type": "stream",
     "text": [
      "the entered value is smaller than 4\n"
     ]
    },
    {
     "name": "stdin",
     "output_type": "stream",
     "text": [
      "Enter a value:  7\n"
     ]
    },
    {
     "name": "stdout",
     "output_type": "stream",
     "text": [
      "the entered value is larger than 4\n"
     ]
    },
    {
     "name": "stdin",
     "output_type": "stream",
     "text": [
      "Enter a value:  4\n"
     ]
    },
    {
     "name": "stdout",
     "output_type": "stream",
     "text": [
      "the entered value is equal to 4\n"
     ]
    }
   ],
   "source": [
    "for i in range(3): # do this 3 times\n",
    "    a = float(input('Enter a value: '))\n",
    "    if a < 4:\n",
    "        print('the entered value is smaller than 4')\n",
    "    elif a > 4:\n",
    "        print('the entered value is larger than 4')\n",
    "    else:\n",
    "        print('the entered value is equal to 4')"
   ]
  },
  {
   "cell_type": "markdown",
   "metadata": {},
   "source": [
    "### Exercise 2. <a name=\"back2\"></a>Combination of `for` loop with `if` statement\n",
    "Consider the function\n",
    "\n",
    "$\\begin{split}\n",
    "y &= \\cos(x) \\qquad \\text{for} \\qquad x < 0 \\\\\n",
    "y &= \\exp(-x) \\qquad \\text{for} \\qquad x \\ge 0 \\\\\n",
    "\\end{split}$\n",
    "\n",
    "Compute $y$ for $x$ going from $-2\\pi$ to $2\\pi$ with 100 points and make a graph. Make sure the limits of the $x$-axis are from $-2\\pi$ to $2\\pi$."
   ]
  },
  {
   "cell_type": "code",
   "execution_count": null,
   "metadata": {},
   "outputs": [],
   "source": []
  },
  {
   "cell_type": "markdown",
   "metadata": {},
   "source": [
    "<a href=\"#ex2answer\">Answer for Exercise 2</a>"
   ]
  },
  {
   "cell_type": "markdown",
   "metadata": {},
   "source": [
    "### Exercise 3. <a name=\"back3\"></a>Load and loop through temperature data\n",
    "Load the temperature data for Holland from the data file `holland_temperature.dat`. Loop through all monthly temperatures and print a message that includes the month number and states whether the monthly average temperature is above or below 10 degrees"
   ]
  },
  {
   "cell_type": "code",
   "execution_count": null,
   "metadata": {},
   "outputs": [],
   "source": []
  },
  {
   "cell_type": "markdown",
   "metadata": {},
   "source": [
    "<a href=\"#ex3answer\">Answer for Exercise 3</a>"
   ]
  },
  {
   "cell_type": "markdown",
   "metadata": {},
   "source": [
    "### Looping and summation\n",
    "One application of a loop is to compute the sum of all the values in an array. Consider, for example, the array `data` with 8 values. We will compute the sum of all values in `data`. We first define a variable `datasum` and assign it the initial value 0. Next, we loop through all the values in `data` and add each value to `datasum`:"
   ]
  },
  {
   "cell_type": "code",
   "execution_count": 12,
   "metadata": {},
   "outputs": [
    {
     "name": "stdout",
     "output_type": "stream",
     "text": [
      "i, datasum:  0 1\n",
      "i, datasum:  1 4\n",
      "i, datasum:  2 6\n",
      "i, datasum:  3 11\n",
      "i, datasum:  4 18\n",
      "i, datasum:  5 21\n",
      "i, datasum:  6 25\n",
      "i, datasum:  7 27\n",
      "total sum of data:  27\n"
     ]
    }
   ],
   "source": [
    "data = np.array([1, 3, 2, 5, 7, 3, 4, 2])\n",
    "datasum = 0\n",
    "for i in range(len(data)):\n",
    "    datasum = datasum + data[i]\n",
    "    print('i, datasum: ', i, datasum)\n",
    "print('total sum of data: ', datasum)"
   ]
  },
  {
   "cell_type": "markdown",
   "metadata": {},
   "source": [
    "Note that the statement \n",
    "\n",
    "`datasum = datasum + data[i]` \n",
    "\n",
    "means that `data[i]` is added to the current value of `datasum` and that the result is assigned to `datasum`. There is actually a shorter syntax for the same statement: \n",
    "\n",
    "`datasum += data[i]`\n",
    "\n",
    "The `+=` command means: add whatever is on the right side of the `+=` sign to whatever is on the left side. You can use whichever syntax you are most comfortable with (although `+=` is considered to be better and in some cases more efficient)."
   ]
  },
  {
   "cell_type": "markdown",
   "metadata": {},
   "source": [
    "### Exercise 4.  <a name=\"back4\"></a>Running total\n",
    "For the data of the previous example, compute the running total and store it in an array using a loop. Hence, the result should be an array with the same length as `data` where item `i` is the sum of all values in the array `data` up to and including `data[i]`. Print both the array `data` and the array with the running total to the screen. Finally, check your answer by using the `cumsum` function of `numpy`, which should give the same answer as your loop."
   ]
  },
  {
   "cell_type": "code",
   "execution_count": null,
   "metadata": {},
   "outputs": [],
   "source": []
  },
  {
   "cell_type": "markdown",
   "metadata": {},
   "source": [
    "<a href=\"#ex4answer\">Answer for Exercise 4</a>"
   ]
  },
  {
   "cell_type": "markdown",
   "metadata": {},
   "source": [
    "### Finding the maximum value the hard way\n",
    "Next, let's find the maximum in the array `data` and the index of the maximum value. For illustration purposes, we will do this the hard way by using a loop and an if statement. First, we create a variable `maxvalue` that contains the maximum value and set it initially to a very small number, and we create a variable `maxindex` that is the index of the maximum value and is initially set to `None`. Next we loop through all values in `data` and update the `maxvalue` and `maxindex` everytime we find a larger value than the current `maxvalue`"
   ]
  },
  {
   "cell_type": "code",
   "execution_count": 13,
   "metadata": {},
   "outputs": [
    {
     "name": "stdout",
     "output_type": "stream",
     "text": [
      "the maximum value is  7\n",
      "the index of the maximum value is  4\n"
     ]
    }
   ],
   "source": [
    "maxvalue = -1e8\n",
    "maxindex = None\n",
    "for i in range(len(data)):\n",
    "    if data[i] > maxvalue:\n",
    "        maxvalue = data[i]\n",
    "        maxindex = i\n",
    "print('the maximum value is ', maxvalue)\n",
    "print('the index of the maximum value is ', maxindex)"
   ]
  },
  {
   "cell_type": "markdown",
   "metadata": {},
   "source": [
    "For this example, it is easy to check whether these numbers are correct by looking at the `data` array, but that becomes more difficult when the `data` array is large. There are, of course, functions available in the `numpy` package to find the maximum value and the index of the maximum value: `np.max` returns the maximum value of an array, and `np.argmax` returns the index of the maximum of the array. There are similar functions for the mimimum value."
   ]
  },
  {
   "cell_type": "code",
   "execution_count": 14,
   "metadata": {},
   "outputs": [
    {
     "name": "stdout",
     "output_type": "stream",
     "text": [
      "the maximum value is  7\n",
      "the index of the maximum value is  4\n"
     ]
    }
   ],
   "source": [
    "print('the maximum value is ', np.max(data))\n",
    "print('the index of the maximum value is ', np.argmax(data))"
   ]
  },
  {
   "cell_type": "markdown",
   "metadata": {},
   "source": [
    "### Exercise 5. <a name=\"back5\"></a>Month closest to 15 degrees\n",
    "Find the month in which the average monthly temperature in Holland is closest to 15 degrees (use the data from Exercise 3). Apply the approach described above by looping through all values and use an `if` statement inside the loop. You may also want to use the `abs` function to compute the absolute value of a number. Check your answer by using a few `numpy` methods that don't require a loop and an `if` statement."
   ]
  },
  {
   "cell_type": "code",
   "execution_count": null,
   "metadata": {},
   "outputs": [],
   "source": []
  },
  {
   "cell_type": "markdown",
   "metadata": {},
   "source": [
    "<a href=\"#ex5answer\">Answer for Exercise 5</a>"
   ]
  },
  {
   "cell_type": "markdown",
   "metadata": {},
   "source": [
    "### Nested loops\n",
    "It is also possible to have loops inside loops. These are called nested loops. For example, consider the array `data` with 3 rows and 4 columns shown below. We want to compute the sum of the values in each row (so we sum the columns) and we are going to do this using a double loop. First, we make an array of zeros called `rowtotal` of length 3 (one value for each row of the array `data`). Next, we loop through each row. For each row inside the loop, we start another loop that goes through all the columns and adds the value to the array `rowtotal` for that row."
   ]
  },
  {
   "cell_type": "code",
   "execution_count": 15,
   "metadata": {},
   "outputs": [
    {
     "name": "stdout",
     "output_type": "stream",
     "text": [
      "[11. 22. 18.]\n"
     ]
    }
   ],
   "source": [
    "data = np.array([[1, 2, 3, 5],\n",
    "                 [4, 8, 6, 4],\n",
    "                 [3, 5, 4, 6]])\n",
    "rowtotal = np.zeros(3)\n",
    "for irow in range(3):\n",
    "    for jcol in range(4):\n",
    "        rowtotal[irow] += data[irow, jcol]\n",
    "        #longer alternative:\n",
    "        #rowtotal[irow] = rowtotal[irow] + data[irow, jcol]\n",
    "print(rowtotal)"
   ]
  },
  {
   "cell_type": "markdown",
   "metadata": {},
   "source": [
    "After running the code above, first make sure that the answer is correct. Next, note that it is important to set the values of `rowtotal` to 0 before starting the loops, as we add to these values to compute the sum of each row. In the code, we use two loops, so we indented twice. \n",
    "\n",
    "`numpy` has a `sum` function that can compute the sum of an entire array, or the sum along one of the axes (for example along the rows or columns) by specifying the `axis` keyword. "
   ]
  },
  {
   "cell_type": "code",
   "execution_count": 16,
   "metadata": {},
   "outputs": [
    {
     "name": "stdout",
     "output_type": "stream",
     "text": [
      "sum of entire array: 51\n",
      "sum rows (axis=0): [ 8 15 13 15]\n",
      "sum columns (axis=1): [11 22 18]\n"
     ]
    }
   ],
   "source": [
    "print('sum of entire array:', np.sum(data))\n",
    "print('sum rows (axis=0):', np.sum(data, axis=0))\n",
    "print('sum columns (axis=1):', np.sum(data, axis=1))"
   ]
  },
  {
   "cell_type": "markdown",
   "metadata": {},
   "source": [
    "### `break` and `while`\n",
    "A common task is to find the position of a value in a sorted table (e.g., a list or array). \n",
    "For example, determine between which two numbers the number 6 falls in the ordered sequence `[1, 4, 5, 8, 9]`. \n",
    "I know, it is between `5` and `8`, but what if the list is long? \n",
    "To find the position in the list, we need to loop through the list and break out of the loop once we have found the position. For this, Python has the command `break`."
   ]
  },
  {
   "cell_type": "code",
   "execution_count": 17,
   "metadata": {},
   "outputs": [
    {
     "name": "stdout",
     "output_type": "stream",
     "text": [
      "a is between 5 and 8\n"
     ]
    }
   ],
   "source": [
    "x = [1, 4, 5, 8, 9]\n",
    "a = 6\n",
    "for i in range(len(x)):\n",
    "    if a < x[i]:\n",
    "        break\n",
    "print('a is between', x[i-1], 'and', x[i])"
   ]
  },
  {
   "cell_type": "markdown",
   "metadata": {},
   "source": [
    "There is another way to code this using a `while` loop as shown below"
   ]
  },
  {
   "cell_type": "code",
   "execution_count": 18,
   "metadata": {},
   "outputs": [
    {
     "name": "stdout",
     "output_type": "stream",
     "text": [
      "a is between 5 and 8\n"
     ]
    }
   ],
   "source": [
    "x = [1, 4, 5, 8, 9]\n",
    "a = 6\n",
    "i = 0\n",
    "while a >= x[i]:\n",
    "    i = i + 1\n",
    "print('a is between', x[i-1], 'and', x[i])"
   ]
  },
  {
   "cell_type": "markdown",
   "metadata": {},
   "source": [
    "In the `while` loop, the comparison is done at the beginning of the loop, while the counter (in this case `i`) is updated inside the loop. Either a loop with a `break` or a `while` loop with a counter works fine, but `while` loops may be tricky in some cases, as they can result in infinite loops when you have an error in your code. Once you are in an infinite loop (one that never stops), click on the [Kernel] menu item at the top of the window and select [Interrupt Kernel] or [Restart Kernel]. This will end your Python session and start a new one. When you print something to the screen in your `while` loop, it may not be possible to break out of the loop and you may need to end your Jupyter session (and potentially lose some of your work). Because of these problems with errors in `while` loops, it is recommended to use a loop with a break rather than a while loop when possible. "
   ]
  },
  {
   "cell_type": "markdown",
   "metadata": {},
   "source": [
    "### Exercise 6, <a name=\"back6\"></a>Oil data\n",
    "The file `oil_price.dat` contains the monthly oil price since 1985. The file contains three columns: year, month, price in Euros (from the european bank website). Make a plot of the oil price (put numbers along the horizontal axis; we will learn how to do dates in another notebook) and determine the month and year the oil price first rose above 40 euros, above 60 euros, and above 80 euros. You need to write to the screen something like `The oil price exceeds 40 euros for the first time in month xx of year yyyy` where `xx` and `yyyy` are the correct month and year. Use a double loop. Can you modify the code such that it doesn't print the number of the month but the name of the month?"
   ]
  },
  {
   "cell_type": "code",
   "execution_count": null,
   "metadata": {},
   "outputs": [],
   "source": []
  },
  {
   "cell_type": "markdown",
   "metadata": {},
   "source": [
    "<a href=\"#ex6answer\">Answer for Exercise 6</a>"
   ]
  },
  {
   "cell_type": "markdown",
   "metadata": {},
   "source": [
    "### Strings\n",
    "Strings are a very versatile data type, and we can easily spend an entire Notebook on strings. \n",
    "We will only make limited use of strings, so we keep treatment here to a minimum. We already used strings to specify names along axes of a graph, or in the legend of a graph. Strings are like arrays or lists in that every character in a string has an index. Each character or range of characters can be accessed, but they cannot be changed (so they are more like tuples than arrays or lists). A string also has a length. "
   ]
  },
  {
   "cell_type": "code",
   "execution_count": 19,
   "metadata": {},
   "outputs": [
    {
     "name": "stdout",
     "output_type": "stream",
     "text": [
      "21\n",
      "G\n",
      "Goodmorning \n"
     ]
    }
   ],
   "source": [
    "text1 = 'Goodmorning everybody'\n",
    "print(len(text1))\n",
    "print(text1[0])\n",
    "print(text1[0:12])"
   ]
  },
  {
   "cell_type": "markdown",
   "metadata": {},
   "source": [
    "When you add two strings, they are put back to back, just like lists. When you want to combine text with a variable, you first need to change the variable to a string and then add the two strings:"
   ]
  },
  {
   "cell_type": "code",
   "execution_count": 20,
   "metadata": {},
   "outputs": [
    {
     "name": "stdout",
     "output_type": "stream",
     "text": [
      "Goodmorning everybody in the class\n",
      "The magic number is 7\n"
     ]
    }
   ],
   "source": [
    "text1 = 'Goodmorning everybody'\n",
    "newtext = text1 + ' in the class'  # Adding two srings\n",
    "print(newtext)\n",
    "a = 7\n",
    "mes = 'The magic number is ' + str(a)  # Combining strings and numbers\n",
    "print(mes)"
   ]
  },
  {
   "cell_type": "markdown",
   "metadata": {},
   "source": [
    "Comparisons work on strings just like they work on numbers. The comparison starts with the first character in a string and only goes to the next character when the first characters of both strings are equal. The letter 'a' is smaller than 'b', 'b' is smaller than 'c', etc. But be careful, in the order of things, the upper case characters are smaller than all lower case characters! So 'A' is smaller than 'a', but also smaller than 'm' or any other lower case character. Make sure you understand the following statements"
   ]
  },
  {
   "cell_type": "code",
   "execution_count": 21,
   "metadata": {},
   "outputs": [
    {
     "name": "stdout",
     "output_type": "stream",
     "text": [
      "True\n",
      "True\n",
      "False\n",
      "True\n",
      "True\n"
     ]
    }
   ],
   "source": [
    "print('delft' < 'eindhoven')  # True as 'd' is smaller than 'e'\n",
    "print('dalft' < 'delft')      # True as 'a' is smaller than 'e'\n",
    "print('delft' == 'Delft')     # False as lower and upper case are not equal\n",
    "print('Delft' < 'delft')      # True as 'D' is smaller than 'd'\n",
    "print('delft' > 'Eindhoven')  # Also True, as 'd' is larger than 'E' or any other upper case character"
   ]
  },
  {
   "cell_type": "markdown",
   "metadata": {},
   "source": [
    "Strings can be converted to upper or lower case"
   ]
  },
  {
   "cell_type": "code",
   "execution_count": 22,
   "metadata": {},
   "outputs": [
    {
     "name": "stdout",
     "output_type": "stream",
     "text": [
      "TU Delft\n",
      "tu delft\n",
      "TU DELFT\n"
     ]
    }
   ],
   "source": [
    "TU = 'TU Delft'\n",
    "print(TU)\n",
    "print(TU.lower())\n",
    "print(TU.upper())"
   ]
  },
  {
   "cell_type": "markdown",
   "metadata": {},
   "source": [
    "A string consisting of multiple words can be converted into a list of words using `split`"
   ]
  },
  {
   "cell_type": "code",
   "execution_count": 23,
   "metadata": {},
   "outputs": [
    {
     "name": "stdout",
     "output_type": "stream",
     "text": [
      "This is the sentence: This is a sentence containing a number of words\n",
      "This is the split sentence: ['This', 'is', 'a', 'sentence', 'containing', 'a', 'number', 'of', 'words']\n",
      "All words may be printed seperately:\n",
      "This\n",
      "is\n",
      "a\n",
      "sentence\n",
      "containing\n",
      "a\n",
      "number\n",
      "of\n",
      "words\n"
     ]
    }
   ],
   "source": [
    "sentence = 'This is a sentence containing a number of words'\n",
    "print('This is the sentence:', sentence)\n",
    "wordlist = sentence.split()\n",
    "print('This is the split sentence:', wordlist)\n",
    "print('All words may be printed seperately:')\n",
    "for word in wordlist:\n",
    "    print(word)"
   ]
  },
  {
   "cell_type": "markdown",
   "metadata": {},
   "source": [
    "### Exercise 7. <a name=\"back7\"></a>Find the position of your name in a list\n",
    "Use a loop to figure out between which two names your name falls in the list\n",
    "`['Aaldrich', 'Babette', 'Chris', 'Franka', 'Joe', 'Louisa', 'Pierre', 'Simone', 'Tarek', 'Yvonne', 'Zu']` and print the result to the screen."
   ]
  },
  {
   "cell_type": "code",
   "execution_count": null,
   "metadata": {},
   "outputs": [],
   "source": []
  },
  {
   "cell_type": "markdown",
   "metadata": {},
   "source": [
    "<a href=\"#ex7answer\">Answer for Exercise 7</a>"
   ]
  },
  {
   "cell_type": "markdown",
   "metadata": {},
   "source": [
    "### Answers to the exercises"
   ]
  },
  {
   "cell_type": "markdown",
   "metadata": {},
   "source": [
    "<a name=\"ex1answer\">Answer to Exercise 1</a>"
   ]
  },
  {
   "cell_type": "code",
   "execution_count": 24,
   "metadata": {},
   "outputs": [
    {
     "name": "stdout",
     "output_type": "stream",
     "text": [
      "The number of days in January is 31\n",
      "The number of days in February is 28\n",
      "The number of days in March is 31\n",
      "The number of days in April is 30\n",
      "The number of days in May is 31\n",
      "The number of days in June is 30\n",
      "The number of days in July is 31\n",
      "The number of days in August is 31\n",
      "The number of days in September is 30\n",
      "The number of days in October is 31\n",
      "The number of days in November is 30\n",
      "The number of days in December is 31\n"
     ]
    }
   ],
   "source": [
    "months = ['January', 'February', 'March', 'April',\\\n",
    "          'May','June', 'July', 'August', 'September',\\\n",
    "          'October', 'November', 'December']\n",
    "days = [31, 28, 31, 30, 31, 30, 31, 31, 30, 31, 30, 31]\n",
    "for i in range(12):\n",
    "    print(f'The number of days in {months[i]} is {days[i]}')"
   ]
  },
  {
   "cell_type": "markdown",
   "metadata": {},
   "source": [
    "<a href=\"#back1\">Back to Exercise 1</a>\n",
    "\n",
    "<a name=\"ex2answer\">Answer to Exercise 2</a>"
   ]
  },
  {
   "cell_type": "code",
   "execution_count": 25,
   "metadata": {},
   "outputs": [
    {
     "data": {
      "image/png": "[encoded data removed]",
      "text/plain": [
       "<Figure size 432x288 with 1 Axes>"
      ]
     },
     "metadata": {
      "needs_background": "light"
     },
     "output_type": "display_data"
    }
   ],
   "source": [
    "x = np.linspace(-2 * np.pi, 2 * np.pi, 100)\n",
    "y = np.zeros_like(x)\n",
    "for i in range(100):\n",
    "    if x[i] < 0:\n",
    "        y[i] = np.cos(x[i])\n",
    "    else:\n",
    "        y[i] = np.exp(-x[i])\n",
    "plt.plot(x, y)\n",
    "plt.xlim(-2 * np.pi, 2 * np.pi);"
   ]
  },
  {
   "cell_type": "markdown",
   "metadata": {},
   "source": [
    "<a href=\"#back2\">Back to Exercise 2</a>\n",
    "\n",
    "<a name=\"ex3answer\">Answer to Exercise 3</a>"
   ]
  },
  {
   "cell_type": "code",
   "execution_count": 26,
   "metadata": {},
   "outputs": [
    {
     "name": "stdout",
     "output_type": "stream",
     "text": [
      "average monthly temperature in month  1  is less than 10 degrees\n",
      "average monthly temperature in month  2  is less than 10 degrees\n",
      "average monthly temperature in month  3  is less than 10 degrees\n",
      "average monthly temperature in month  4  is less than 10 degrees\n",
      "average monthly temperature in month  5  is more than 10 degrees\n",
      "average monthly temperature in month  6  is more than 10 degrees\n",
      "average monthly temperature in month  7  is more than 10 degrees\n",
      "average monthly temperature in month  8  is more than 10 degrees\n",
      "average monthly temperature in month  9  is more than 10 degrees\n",
      "average monthly temperature in month  10  is more than 10 degrees\n",
      "average monthly temperature in month  11  is less than 10 degrees\n",
      "average monthly temperature in month  12  is less than 10 degrees\n"
     ]
    }
   ],
   "source": [
    "temperature = np.loadtxt('holland_temperature.dat')\n",
    "for i in range(len(temperature)):\n",
    "    if temperature[i] < 10:\n",
    "        print('average monthly temperature in month ', i + 1, ' is less than 10 degrees')\n",
    "    else:\n",
    "        print('average monthly temperature in month ', i + 1, ' is more than 10 degrees')"
   ]
  },
  {
   "cell_type": "markdown",
   "metadata": {},
   "source": [
    "<a href=\"#back3\">Back to Exercise 3</a>\n",
    "\n",
    "<a name=\"ex4answer\">Answer to Exercise 4</a>"
   ]
  },
  {
   "cell_type": "code",
   "execution_count": 27,
   "metadata": {},
   "outputs": [
    {
     "name": "stdout",
     "output_type": "stream",
     "text": [
      "data values: [1 3 2 5 7 3 4 2]\n",
      "running total: [ 1  4  6 11 18 21 25 27]\n",
      "running total with numpy: [ 1  4  6 11 18 21 25 27]\n"
     ]
    }
   ],
   "source": [
    "data = np.array([1, 3, 2, 5, 7, 3, 4, 2])\n",
    "runningtotal = np.zeros_like(data)\n",
    "runningtotal[0] = data[0]\n",
    "for i in range(1, len(data)):\n",
    "    runningtotal[i] = runningtotal[i-1] + data[i]\n",
    "print('data values:', data)\n",
    "print('running total:', runningtotal)\n",
    "print('running total with numpy:', np.cumsum(data))"
   ]
  },
  {
   "cell_type": "markdown",
   "metadata": {},
   "source": [
    "<a href=\"#back4\">Back to Exercise 4</a>\n",
    "\n",
    "<a name=\"ex5answer\">Answer to Exercise 5</a>"
   ]
  },
  {
   "cell_type": "code",
   "execution_count": 28,
   "metadata": {},
   "outputs": [
    {
     "name": "stdout",
     "output_type": "stream",
     "text": [
      "[ 3.1  3.3  6.2  9.2 13.1 15.6 17.9 17.5 14.5 10.7  6.7  3.7]\n",
      "Number of month closest to 15 degrees, temp:  9 14.5\n",
      "Alternative method:\n",
      "Number of month closest to 15 degrees, temp:  9 14.5\n"
     ]
    }
   ],
   "source": [
    "temperature = np.loadtxt('holland_temperature.dat')\n",
    "print(temperature)\n",
    "monthindex = -1\n",
    "tdiff = 100.0\n",
    "for i in range(12):\n",
    "    if abs(temperature[i] - 15) < tdiff:\n",
    "        monthindex = i\n",
    "        tdiff = abs(temperature[i] - 15)\n",
    "print('Number of month closest to 15 degrees, temp: ', monthindex + 1, temperature[monthindex])\n",
    "print('Alternative method:')\n",
    "altmin = np.argmin(abs(temperature - 15))\n",
    "print('Number of month closest to 15 degrees, temp: ', altmin + 1, temperature[altmin])"
   ]
  },
  {
   "cell_type": "markdown",
   "metadata": {},
   "source": [
    "<a href=\"#back5\">Back to Exercise 5</a>\n",
    "\n",
    "<a name=\"ex6answer\">Answer to Exercise 6</a>"
   ]
  },
  {
   "cell_type": "code",
   "execution_count": 29,
   "metadata": {},
   "outputs": [
    {
     "name": "stdout",
     "output_type": "stream",
     "text": [
      "The oil price exceeds 40 euros for the first time in April of 2005\n",
      "The oil price exceeds 60 euros for the first time in December of 2007\n",
      "The oil price exceeds 80 euros for the first time in June of 2008\n"
     ]
    },
    {
     "data": {
      "image/png": "[encoded data removed]",
      "text/plain": [
       "<Figure size 432x288 with 1 Axes>"
      ]
     },
     "metadata": {
      "needs_background": "light"
     },
     "output_type": "display_data"
    }
   ],
   "source": [
    "oilprice = np.loadtxt('oil_price_monthly.dat', delimiter=',')\n",
    "plt.plot(oilprice[:,2], 'b-')\n",
    "nrow, ncol = oilprice.shape\n",
    "months = ['January', 'February', 'March', 'April',\\\n",
    "          'May','June', 'July', 'August', 'September',\\\n",
    "          'October', 'November', 'December']\n",
    "for price in [40, 60, 80]:\n",
    "    for i in range(nrow):\n",
    "        if oilprice[i, 2] > price:\n",
    "            print(f'The oil price exceeds {price} euros for the first time in', \\\n",
    "                  f'{months[int(oilprice[i, 1])]} of {oilprice[i, 0]:.0f}')\n",
    "            break"
   ]
  },
  {
   "cell_type": "markdown",
   "metadata": {},
   "source": [
    "<a href=\"#back6\">Back to Exercise 6</a>\n",
    "\n",
    "<a name=\"ex7answer\">Answer to Exercise 7</a>"
   ]
  },
  {
   "cell_type": "code",
   "execution_count": 30,
   "metadata": {},
   "outputs": [
    {
     "name": "stdout",
     "output_type": "stream",
     "text": [
      "Guido is between Franka and Joe\n"
     ]
    }
   ],
   "source": [
    "x = ['Aaldrich', 'Babette', 'Chris', 'Franka', 'Joe', 'Louisa', 'Pierre', 'Simone', 'Tarek', 'Yvonne', 'Zu']\n",
    "myname = 'Guido'\n",
    "for i in range(len(x)):\n",
    "    if myname < x[i]:\n",
    "        break\n",
    "print(myname, 'is between', x[i-1], 'and', x[i])"
   ]
  },
  {
   "cell_type": "markdown",
   "metadata": {},
   "source": [
    "<a href=\"#back7\">Back to Exercise 7</a>"
   ]
  }
 ],
 "metadata": {
  "kernelspec": {
   "display_name": "Python 3",
   "language": "python",
   "name": "python3"
  },
  "language_info": {
   "codemirror_mode": {
    "name": "ipython",
    "version": 3
   },
   "file_extension": ".py",
   "mimetype": "text/x-python",
   "name": "python",
   "nbconvert_exporter": "python",
   "pygments_lexer": "ipython3",
   "version": "3.8.8"
  },
  "latex_envs": {
   "LaTeX_envs_menu_present": true,
   "autoclose": false,
   "autocomplete": true,
   "bibliofile": "biblio.bib",
   "cite_by": "apalike",
   "current_citInitial": 1,
   "eqLabelWithNumbers": true,
   "eqNumInitial": 1,
   "hotkeys": {
    "equation": "Ctrl-E",
    "itemize": "Ctrl-I"
   },
   "labels_anchors": false,
   "latex_user_defs": false,
   "report_style_numbering": false,
   "user_envs_cfg": false
  },
  "varInspector": {
   "cols": {
    "lenName": 16,
    "lenType": 16,
    "lenVar": 40
   },
   "kernels_config": {
    "python": {
     "delete_cmd_postfix": "",
     "delete_cmd_prefix": "del ",
     "library": "var_list.py",
     "varRefreshCmd": "print(var_dic_list())"
    },
    "r": {
     "delete_cmd_postfix": ") ",
     "delete_cmd_prefix": "rm(",
     "library": "var_list.r",
     "varRefreshCmd": "cat(var_dic_list()) "
    }
   },
   "types_to_exclude": [
    "module",
    "function",
    "builtin_function_or_method",
    "instance",
    "_Feature"
   ],
   "window_display": false
  }
 },
 "nbformat": 4,
 "nbformat_minor": 4
}
