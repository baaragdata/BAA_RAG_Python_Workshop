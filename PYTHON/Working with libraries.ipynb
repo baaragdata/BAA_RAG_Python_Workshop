{
 "cells": [
  {
   "cell_type": "markdown",
   "id": "basic-medicaid",
   "metadata": {},
   "source": [
    "<figure>\n",
    "  <IMG SRC=\"../baa_logo.png\" WIDTH=60 ALIGN=\"right\">\n",
    "</figure>\n",
    "\n",
    "## Working with libraries in Python\n",
    "Importing libraries is done using the import command. There are a number of ways to use it."
   ]
  },
  {
   "cell_type": "markdown",
   "id": "impossible-oakland",
   "metadata": {},
   "source": [
    "Importing libraries is done using the import command. There are a number of ways to use it."
   ]
  },
  {
   "cell_type": "code",
   "execution_count": 1,
   "id": "loving-tutorial",
   "metadata": {},
   "outputs": [],
   "source": [
    "import math"
   ]
  },
  {
   "cell_type": "code",
   "execution_count": 5,
   "id": "silent-telescope",
   "metadata": {},
   "outputs": [
    {
     "name": "stdout",
     "output_type": "stream",
     "text": [
      "3.141592653589793\n"
     ]
    }
   ],
   "source": [
    "math.pi\n",
    "print(math.pi)\n",
    "?math.pi"
   ]
  },
  {
   "cell_type": "markdown",
   "id": "herbal-carolina",
   "metadata": {},
   "source": [
    "To see all the functions in a library you can use the built-in `dir()` command"
   ]
  },
  {
   "cell_type": "code",
   "execution_count": 12,
   "id": "angry-electronics",
   "metadata": {},
   "outputs": [
    {
     "name": "stdout",
     "output_type": "stream",
     "text": [
      "['__doc__', '__loader__', '__name__', '__package__', '__spec__', 'acos', 'acosh', 'asin', 'asinh', 'atan', 'atan2', 'atanh', 'ceil', 'comb', 'copysign', 'cos', 'cosh', 'degrees', 'dist', 'e', 'erf', 'erfc', 'exp', 'expm1', 'fabs', 'factorial', 'floor', 'fmod', 'frexp', 'fsum', 'gamma', 'gcd', 'hypot', 'inf', 'isclose', 'isfinite', 'isinf', 'isnan', 'isqrt', 'ldexp', 'lgamma', 'log', 'log10', 'log1p', 'log2', 'modf', 'nan', 'perm', 'pi', 'pow', 'prod', 'radians', 'remainder', 'sin', 'sinh', 'sqrt', 'tan', 'tanh', 'tau', 'trunc']\n"
     ]
    }
   ],
   "source": [
    "print(dir(math))"
   ]
  },
  {
   "cell_type": "markdown",
   "id": "frank-isolation",
   "metadata": {},
   "source": [
    "You can import just a specific function, such as this:"
   ]
  },
  {
   "cell_type": "code",
   "execution_count": 7,
   "id": "fifteen-aberdeen",
   "metadata": {},
   "outputs": [],
   "source": [
    "from math import pi"
   ]
  },
  {
   "cell_type": "markdown",
   "id": "checked-inventory",
   "metadata": {},
   "source": [
    "It can then be used just using it's name..."
   ]
  },
  {
   "cell_type": "code",
   "execution_count": 8,
   "id": "further-agency",
   "metadata": {},
   "outputs": [
    {
     "data": {
      "text/plain": [
       "3.141592653589793"
      ]
     },
     "execution_count": 8,
     "metadata": {},
     "output_type": "execute_result"
    }
   ],
   "source": [
    "pi"
   ]
  },
  {
   "cell_type": "markdown",
   "id": "russian-glasgow",
   "metadata": {},
   "source": [
    "Anything you import you can rename at that point..."
   ]
  },
  {
   "cell_type": "code",
   "execution_count": 9,
   "id": "respected-bronze",
   "metadata": {},
   "outputs": [],
   "source": [
    "import math as mt"
   ]
  },
  {
   "cell_type": "code",
   "execution_count": 10,
   "id": "growing-duration",
   "metadata": {},
   "outputs": [
    {
     "name": "stdout",
     "output_type": "stream",
     "text": [
      "3.141592653589793\n"
     ]
    }
   ],
   "source": [
    "print(mt.pi)"
   ]
  },
  {
   "cell_type": "code",
   "execution_count": 11,
   "id": "little-omaha",
   "metadata": {},
   "outputs": [
    {
     "name": "stdout",
     "output_type": "stream",
     "text": [
      "Help on built-in function log in module math:\n",
      "\n",
      "log(...)\n",
      "    log(x, [base=math.e])\n",
      "    Return the logarithm of x to the given base.\n",
      "    \n",
      "    If the base not specified, returns the natural logarithm (base e) of x.\n",
      "\n"
     ]
    }
   ],
   "source": [
    "help(math.log)"
   ]
  },
  {
   "cell_type": "markdown",
   "id": "grave-violence",
   "metadata": {},
   "source": [
    "It is possible to import ALL of the functions of a library, however this is not reccomended in most cases. It can however be usefull for smaller libraries, especially ones of your own."
   ]
  },
  {
   "cell_type": "code",
   "execution_count": null,
   "id": "bearing-irrigation",
   "metadata": {},
   "outputs": [],
   "source": [
    "from math import *\n",
    "print(pi)\n",
    "print(\"Pi to 3 decimal places = {:.4}\".format(pi))"
   ]
  }
 ],
 "metadata": {
  "kernelspec": {
   "display_name": "Python 3",
   "language": "python",
   "name": "python3"
  },
  "language_info": {
   "codemirror_mode": {
    "name": "ipython",
    "version": 3
   },
   "file_extension": ".py",
   "mimetype": "text/x-python",
   "name": "python",
   "nbconvert_exporter": "python",
   "pygments_lexer": "ipython3",
   "version": "3.8.9"
  }
 },
 "nbformat": 4,
 "nbformat_minor": 5
}
