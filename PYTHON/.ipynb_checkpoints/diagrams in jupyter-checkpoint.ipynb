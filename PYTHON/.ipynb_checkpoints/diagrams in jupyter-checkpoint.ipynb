{
 "cells": [
  {
   "cell_type": "markdown",
   "id": "ready-cotton",
   "metadata": {},
   "source": [
    "<figure>\n",
    "  <IMG SRC=\"../baa_logo.png\" WIDTH=60 ALIGN=\"right\">\n",
    "</figure>\n",
    "    \n",
    "# diagrams library\n",
    "The diagrams [library](https://github.com/mingrammer/diagrams) is a quick and easy way to produce flow-charts, organisational and system block diagrams. The scripts are easy to write and there is an extensive library of nodes to cover many areas of use.\n",
    "\n",
    "First of all import the nodes required, as well as the Diagram class.\n"
   ]
  },
  {
   "cell_type": "code",
   "execution_count": null,
   "id": "loose-pursuit",
   "metadata": {},
   "outputs": [],
   "source": [
    "from diagrams import Diagram\n",
    "\n",
    "from diagrams.aws.compute import EC2\n",
    "from diagrams.aws.database import RDS\n",
    "from diagrams.aws.network import ELB\n",
    "from diagrams.aws.general import Client, User\n",
    "from diagrams.aws.storage import S3"
   ]
  },
  {
   "cell_type": "markdown",
   "id": "protected-fitting",
   "metadata": {},
   "source": [
    "Here is a simple node with the label \"Feed\". \n",
    "_To produce an image to save change to_ `show=True`"
   ]
  },
  {
   "cell_type": "code",
   "execution_count": null,
   "id": "affecting-cornell",
   "metadata": {},
   "outputs": [],
   "source": [
    "with Diagram(\"Hydrogen Line Telescope\", show=False) as diag:\n",
    "    S3(\"Feed Horn\")\n",
    "    \n",
    "diag"
   ]
  },
  {
   "cell_type": "markdown",
   "id": "spoken-entry",
   "metadata": {},
   "source": [
    "Then add more nodes, with connections, using `- <<` & `>>`"
   ]
  },
  {
   "cell_type": "code",
   "execution_count": null,
   "id": "western-viewer",
   "metadata": {},
   "outputs": [],
   "source": [
    "with Diagram(\"Hydrogen Line Telescope\", show=False) as diag:\n",
    "    S3(\"Feed\") >> ELB(\"VLNA\") >> EC2(\"Filter\") >> RDS(\"Detector\") >> Client(\"Terminal\") << User(\"Me\")\n",
    "    \n",
    "diag"
   ]
  }
 ],
 "metadata": {
  "kernelspec": {
   "display_name": "Python 3",
   "language": "python",
   "name": "python3"
  },
  "language_info": {
   "codemirror_mode": {
    "name": "ipython",
    "version": 3
   },
   "file_extension": ".py",
   "mimetype": "text/x-python",
   "name": "python",
   "nbconvert_exporter": "python",
   "pygments_lexer": "ipython3",
   "version": "3.8.9"
  }
 },
 "nbformat": 4,
 "nbformat_minor": 5
}
