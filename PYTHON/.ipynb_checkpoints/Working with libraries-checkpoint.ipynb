{
 "cells": [
  {
   "cell_type": "markdown",
   "id": "basic-medicaid",
   "metadata": {},
   "source": [
    "<figure>\n",
    "  <IMG SRC=\"../baa_logo.png\" WIDTH=60 ALIGN=\"right\">\n",
    "</figure>\n",
    "\n",
    "## Working with libraries in Python\n",
    "Importing libraries is done using the import command. There are a number of ways to use it."
   ]
  },
  {
   "cell_type": "markdown",
   "id": "impossible-oakland",
   "metadata": {},
   "source": [
    "Importing libraries is done using the import command. There are a number of ways to use it."
   ]
  },
  {
   "cell_type": "code",
   "execution_count": null,
   "id": "loving-tutorial",
   "metadata": {},
   "outputs": [],
   "source": [
    "import math"
   ]
  },
  {
   "cell_type": "code",
   "execution_count": null,
   "id": "silent-telescope",
   "metadata": {},
   "outputs": [],
   "source": [
    "math.pi"
   ]
  },
  {
   "cell_type": "markdown",
   "id": "herbal-carolina",
   "metadata": {},
   "source": [
    "To see all the functions in a library you can use the built-in `dir()` command"
   ]
  },
  {
   "cell_type": "code",
   "execution_count": null,
   "id": "angry-electronics",
   "metadata": {},
   "outputs": [],
   "source": [
    "print(dir(math))"
   ]
  },
  {
   "cell_type": "markdown",
   "id": "frank-isolation",
   "metadata": {},
   "source": [
    "You can import just a specific function, such as this:"
   ]
  },
  {
   "cell_type": "code",
   "execution_count": null,
   "id": "fifteen-aberdeen",
   "metadata": {},
   "outputs": [],
   "source": [
    "from math import pi"
   ]
  },
  {
   "cell_type": "markdown",
   "id": "checked-inventory",
   "metadata": {},
   "source": [
    "It can then be used just using it's name..."
   ]
  },
  {
   "cell_type": "code",
   "execution_count": null,
   "id": "further-agency",
   "metadata": {},
   "outputs": [],
   "source": [
    "pi"
   ]
  },
  {
   "cell_type": "markdown",
   "id": "russian-glasgow",
   "metadata": {},
   "source": [
    "Anything you import you can rename at that point..."
   ]
  },
  {
   "cell_type": "code",
   "execution_count": null,
   "id": "respected-bronze",
   "metadata": {},
   "outputs": [],
   "source": [
    "import math as mt"
   ]
  },
  {
   "cell_type": "code",
   "execution_count": null,
   "id": "growing-duration",
   "metadata": {},
   "outputs": [],
   "source": [
    "mt.pi"
   ]
  },
  {
   "cell_type": "code",
   "execution_count": null,
   "id": "little-omaha",
   "metadata": {},
   "outputs": [],
   "source": [
    "help(math.log)"
   ]
  },
  {
   "cell_type": "markdown",
   "id": "grave-violence",
   "metadata": {},
   "source": [
    "It is possible to import ALL of the functions of a library, however this is not reccomended in most cases. It can however be usefull for smaller libraries, especially ones of your own."
   ]
  },
  {
   "cell_type": "code",
   "execution_count": null,
   "id": "bearing-irrigation",
   "metadata": {},
   "outputs": [],
   "source": [
    "from math import *\n",
    "print(pi)\n",
    "print(\"Pi to 3 decimal places = {:.4}\".format(pi))"
   ]
  }
 ],
 "metadata": {
  "kernelspec": {
   "display_name": "Python 3",
   "language": "python",
   "name": "python3"
  },
  "language_info": {
   "codemirror_mode": {
    "name": "ipython",
    "version": 3
   },
   "file_extension": ".py",
   "mimetype": "text/x-python",
   "name": "python",
   "nbconvert_exporter": "python",
   "pygments_lexer": "ipython3",
   "version": "3.8.9"
  }
 },
 "nbformat": 4,
 "nbformat_minor": 5
}
