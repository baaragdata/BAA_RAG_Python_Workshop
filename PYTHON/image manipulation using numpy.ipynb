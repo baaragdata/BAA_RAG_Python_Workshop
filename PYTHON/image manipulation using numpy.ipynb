{
 "cells": [
  {
   "cell_type": "markdown",
   "id": "collective-stylus",
   "metadata": {},
   "source": [
    "<figure>\n",
    "  <IMG SRC=\"../baa_logo.png\" WIDTH=60 ALIGN=\"right\">\n",
    "</figure>\n",
    "\n",
    "## Image manipulation using numpy"
   ]
  },
  {
   "cell_type": "code",
   "execution_count": null,
   "id": "useful-oklahoma",
   "metadata": {},
   "outputs": [],
   "source": [
    "import numpy as np"
   ]
  },
  {
   "cell_type": "markdown",
   "id": "sixth-modification",
   "metadata": {},
   "source": [
    "Let's remind ourselfs of what a numpy array looks like."
   ]
  },
  {
   "cell_type": "code",
   "execution_count": null,
   "id": "northern-joint",
   "metadata": {},
   "outputs": [],
   "source": [
    "a = np.zeros(10)\n",
    "a"
   ]
  },
  {
   "cell_type": "markdown",
   "id": "continuous-porcelain",
   "metadata": {},
   "source": [
    "Numpy arrays are actually an array of floats. You can chack the type of one of the elements using the `type()` command."
   ]
  },
  {
   "cell_type": "code",
   "execution_count": null,
   "id": "continental-gnome",
   "metadata": {},
   "outputs": [],
   "source": [
    "type(a[0])"
   ]
  },
  {
   "cell_type": "markdown",
   "id": "plain-phase",
   "metadata": {},
   "source": [
    "We can also check the shape of the array, in otherwords how many dimensions it has, using the `.shape` method."
   ]
  },
  {
   "cell_type": "code",
   "execution_count": null,
   "id": "dying-stone",
   "metadata": {},
   "outputs": [],
   "source": [
    "a.shape"
   ]
  },
  {
   "cell_type": "markdown",
   "id": "spoken-destination",
   "metadata": {},
   "source": [
    "Obviously `a` only has one dimension, but let's try something like this:"
   ]
  },
  {
   "cell_type": "code",
   "execution_count": null,
   "id": "harmful-employment",
   "metadata": {},
   "outputs": [],
   "source": [
    "b = np.array([[1,2,3,4,5,6,7,8,9,10], [1,2,3,4,5,6,7,8,9,10]])\n",
    "b.shape"
   ]
  },
  {
   "cell_type": "markdown",
   "id": "cardiac-batch",
   "metadata": {},
   "source": [
    "Some usefull commands that can be used in Jupyter notebooks are the TAB key. Go ahead and type in the next cell `b.` then hit the TAB key. You will see all the methods and attributes beloning to the object."
   ]
  },
  {
   "cell_type": "code",
   "execution_count": null,
   "id": "expanded-ordinance",
   "metadata": {},
   "outputs": [],
   "source": [
    "b."
   ]
  },
  {
   "cell_type": "markdown",
   "id": "appreciated-stevens",
   "metadata": {},
   "source": [
    "If you need to know more about any of the methods and attributes then Jupyter notebook has another handy trick. Use the `?` followed by the library or method/attribute to get additional help."
   ]
  },
  {
   "cell_type": "code",
   "execution_count": null,
   "id": "photographic-harvard",
   "metadata": {},
   "outputs": [],
   "source": [
    "?b"
   ]
  },
  {
   "cell_type": "markdown",
   "id": "suited-soldier",
   "metadata": {},
   "source": [
    "In order to extract certain elements from a numpy array you can ue the same structure as for lists. That is the `[start:end:step] ` format"
   ]
  },
  {
   "cell_type": "code",
   "execution_count": null,
   "id": "upper-phase",
   "metadata": {},
   "outputs": [],
   "source": [
    "print(b[0])\n",
    "print(b[0][0:4])\n",
    "print(b[0][0:4:2])\n",
    "print(b[0][::-1])"
   ]
  },
  {
   "cell_type": "markdown",
   "id": "presidential-island",
   "metadata": {},
   "source": [
    "Lets see how we can manipulate an image using numpy. First we need to import our image and make it in to a numpy array. To do this we will use the scikit-image library, available [here](https://scikit-image.org/) and installed using `pip install scikit-image`"
   ]
  },
  {
   "cell_type": "code",
   "execution_count": null,
   "id": "white-lightning",
   "metadata": {},
   "outputs": [],
   "source": [
    "from skimage import io\n",
    "photo = io.imread('OTB Mk1.jpg')\n",
    "type(photo)"
   ]
  },
  {
   "cell_type": "code",
   "execution_count": null,
   "id": "affiliated-flight",
   "metadata": {},
   "outputs": [],
   "source": [
    "photo.shape"
   ]
  },
  {
   "cell_type": "code",
   "execution_count": null,
   "id": "greatest-workshop",
   "metadata": {},
   "outputs": [],
   "source": [
    "import matplotlib.pyplot as plt\n",
    "plt.imshow(photo)"
   ]
  },
  {
   "cell_type": "code",
   "execution_count": null,
   "id": "worldwide-manufacturer",
   "metadata": {},
   "outputs": [],
   "source": [
    "plt.imshow(photo[::-1])"
   ]
  },
  {
   "cell_type": "code",
   "execution_count": null,
   "id": "postal-budget",
   "metadata": {},
   "outputs": [],
   "source": [
    "plt.imshow(photo[:, ::-1])"
   ]
  },
  {
   "cell_type": "code",
   "execution_count": null,
   "id": "asian-framing",
   "metadata": {},
   "outputs": [],
   "source": [
    "plt.imshow(photo[400:550, 600:750])"
   ]
  },
  {
   "cell_type": "code",
   "execution_count": null,
   "id": "superior-force",
   "metadata": {},
   "outputs": [],
   "source": [
    "plt.imshow(photo[::10, ::10])"
   ]
  },
  {
   "cell_type": "code",
   "execution_count": null,
   "id": "other-variation",
   "metadata": {},
   "outputs": [],
   "source": [
    "print(photo.min())\n",
    "print(photo.max())\n",
    "print(photo.mean())"
   ]
  },
  {
   "cell_type": "code",
   "execution_count": null,
   "id": "tracked-trunk",
   "metadata": {},
   "outputs": [],
   "source": [
    "changed_photo = np.where(photo > 100, 255, 0)\n",
    "plt.imshow(changed_photo)"
   ]
  },
  {
   "cell_type": "code",
   "execution_count": null,
   "id": "wicked-template",
   "metadata": {},
   "outputs": [],
   "source": []
  }
 ],
 "metadata": {
  "kernelspec": {
   "display_name": "Python 3",
   "language": "python",
   "name": "python3"
  },
  "language_info": {
   "codemirror_mode": {
    "name": "ipython",
    "version": 3
   },
   "file_extension": ".py",
   "mimetype": "text/x-python",
   "name": "python",
   "nbconvert_exporter": "python",
   "pygments_lexer": "ipython3",
   "version": "3.8.9"
  }
 },
 "nbformat": 4,
 "nbformat_minor": 5
}
